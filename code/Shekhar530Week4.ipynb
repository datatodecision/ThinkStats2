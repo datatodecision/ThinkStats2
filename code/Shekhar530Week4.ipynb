{
 "cells": [
  {
   "cell_type": "code",
   "execution_count": 1,
   "id": "2fec97e3",
   "metadata": {},
   "outputs": [],
   "source": [
    "# -------------------------------------------------------------------------------------------------------------------\n",
    "# Course name - Exploratory data analysis\n",
    "# Course code - DSC530\n",
    "# Week 4 assignment\n",
    "# Script name - Shekhar530Week4.ipynb\n",
    "# Creator - Manish Shekhar\n",
    "# Date created - Jan 2nd to Jan 6th\n",
    "# -------------------------------------------------------------------------------------------------------------------"
   ]
  },
  {
   "cell_type": "markdown",
   "id": "07f027c0",
   "metadata": {},
   "source": [
    "### Page 11 1-1 & 1-2 Reading, and cleaning the NSFG respondent and pregnancy data file"
   ]
  },
  {
   "cell_type": "code",
   "execution_count": 19,
   "id": "8df9d104",
   "metadata": {},
   "outputs": [],
   "source": [
    "# [Manish] - Importing required libraries\n",
    "\n",
    "import sys\n",
    "import numpy as np\n",
    "import thinkstats2\n",
    "import matplotlib.pyplot as plt\n",
    "import math\n",
    "import statistics\n",
    "import thinkplot\n",
    "\n",
    "from collections import defaultdict\n",
    "\n",
    "\n",
    "\n",
    "# [Manish] - Reading the data file (NSFG repondent data) and cleaning it\n",
    "dct_file='/Users/mshekhar/Downloads/2002FemResp.dct'\n",
    "dat_file='/Users/mshekhar/Downloads/2002FemResp.dat.gz'\n",
    "dct = thinkstats2.ReadStataDct(dct_file)\n",
    "df_resp = dct.ReadFixedWidth(dat_file, compression='gzip', nrows=None)\n",
    "\n",
    "\n",
    "# [Manish] - Reading the data file (NSFG pregnancy data)\n",
    "dct_file='/Users/mshekhar/Downloads/2002FemPreg.dct'\n",
    "dat_file='/Users/mshekhar/Downloads/2002FemPreg.dat.gz'\n",
    "dct = thinkstats2.ReadStataDct(dct_file)\n",
    "df_preg = dct.ReadFixedWidth(dat_file, compression='gzip')\n",
    "\n",
    "\n",
    "# [Manish] - User defined function to clean the pregnancy data \n",
    "def CleanFemPreg(df):\n",
    "    \"\"\"Recodes variables from the pregnancy frame.\n",
    "    df: DataFrame\n",
    "    \"\"\"\n",
    "    # mother's age is encoded in centiyears; convert to years\n",
    "    df.agepreg /= 100.0\n",
    "\n",
    "    # birthwgt_lb contains at least one bogus value (51 lbs)\n",
    "    # replace with NaN\n",
    "    df.loc[df.birthwgt_lb > 20, 'birthwgt_lb'] = np.nan\n",
    "    \n",
    "    # replace 'not ascertained', 'refused', 'don't know' with NaN\n",
    "    na_vals = [97, 98, 99]\n",
    "    df.birthwgt_lb.replace(na_vals, np.nan, inplace=True)\n",
    "    df.birthwgt_oz.replace(na_vals, np.nan, inplace=True)\n",
    "    df.hpagelb.replace(na_vals, np.nan, inplace=True)\n",
    "\n",
    "    df.babysex.replace([7, 9], np.nan, inplace=True)\n",
    "    df.nbrnaliv.replace([9], np.nan, inplace=True)\n",
    "\n",
    "    # birthweight is stored in two columns, lbs and oz.\n",
    "    # convert to a single column in lb\n",
    "    # NOTE: creating a new column requires dictionary syntax,\n",
    "    # not attribute assignment (like df.totalwgt_lb)\n",
    "    df['totalwgt_lb'] = df.birthwgt_lb + df.birthwgt_oz / 16.0    \n",
    "\n",
    "    # due to a bug in ReadStataDct, the last variable gets clipped;\n",
    "    # so for now set it to NaN\n",
    "    df.cmintvw = np.nan\n",
    "    \n",
    "    \n",
    "\n",
    "# [Manish]- cleaning the data in pregnancy file\n",
    "CleanFemPreg(df_preg)"
   ]
  },
  {
   "cell_type": "markdown",
   "id": "a4252cef",
   "metadata": {},
   "source": [
    "### 3-1 Show class size paradox using how many children in the family as use case.  Families with many children are more likely to appear in your sample, and families with no children have no chance to be in the sample."
   ]
  },
  {
   "cell_type": "code",
   "execution_count": 6,
   "id": "7d6b0398",
   "metadata": {},
   "outputs": [
    {
     "data": {
      "text/plain": [
       "0    3563\n",
       "1    1636\n",
       "2    1500\n",
       "3     666\n",
       "4     196\n",
       "5      82\n",
       "Name: numkdhh, dtype: int64"
      ]
     },
     "execution_count": 6,
     "metadata": {},
     "output_type": "execute_result"
    }
   ],
   "source": [
    "# checking distinct data counts in NSFG respondent variable NUMKDHH. \n",
    "# numkdhh per codebook is - \"NUMBER OF BIO/ADOPT/RELATED/LEGAL CHILDREN UNDER AGE 18 IN HOUSEHOLD\"\n",
    "df_resp['numkdhh'].value_counts()\n",
    "# We can see that almost half of the families do not have any children or \n",
    "# do not have any children under 18 in the sample dataset"
   ]
  },
  {
   "cell_type": "code",
   "execution_count": 7,
   "id": "e42b8045",
   "metadata": {
    "scrolled": true
   },
   "outputs": [
    {
     "data": {
      "text/plain": [
       "Pmf({0: 0.466178202276593, 1: 0.21405207379301322, 2: 0.19625801386889966, 3: 0.08713855815779145, 4: 0.025644380478869556, 5: 0.01072877142483318})"
      ]
     },
     "execution_count": 7,
     "metadata": {},
     "output_type": "execute_result"
    }
   ],
   "source": [
    "# Creating pmf / probablity mass function using pmf constructor of thinkstats2 library\n",
    "# pmf_actual represents \n",
    "pmf_actual = thinkstats2.Pmf(df_resp['numkdhh'])\n",
    "pmf_actual"
   ]
  },
  {
   "cell_type": "code",
   "execution_count": 8,
   "id": "662b7cad",
   "metadata": {},
   "outputs": [
    {
     "data": {
      "text/plain": [
       "1.0"
      ]
     },
     "execution_count": 8,
     "metadata": {},
     "output_type": "execute_result"
    }
   ],
   "source": [
    "# Check if pmf (probability mass function) sums upto 1 and thus data is normalized.\n",
    "pmf_actual.Total()"
   ]
  },
  {
   "cell_type": "code",
   "execution_count": 21,
   "id": "78039171",
   "metadata": {},
   "outputs": [
    {
     "name": "stdout",
     "output_type": "stream",
     "text": [
      "Mean of actual PMFs = 1.024205155043831\n"
     ]
    }
   ],
   "source": [
    "# print actual pmf mean\n",
    "pmf_actual = thinkstats2.Pmf(pmf_actual, label='actual')\n",
    "print('Mean of actual PMFs =', pmf_actual.Mean())"
   ]
  },
  {
   "cell_type": "code",
   "execution_count": 22,
   "id": "62df8066",
   "metadata": {},
   "outputs": [
    {
     "name": "stdout",
     "output_type": "stream",
     "text": [
      "Mean of observed PMFs = 2.403679100664282\n"
     ]
    }
   ],
   "source": [
    "# Constructing the biased distribution that we would see if we surveyed the children and \n",
    "# asked them how many children under 18 (includingthemselves) are in their household.\n",
    "# Compute the distribution as observed by children, where the probability associated with each family \n",
    "# is “biased” by the number of children in the family.\n",
    "def BiasPmf(pmf, label):\n",
    "    new_pmf = pmf.Copy(label=label)\n",
    "\n",
    "    for x, p in pmf.Items():\n",
    "        new_pmf.Mult(x, x)\n",
    "        \n",
    "    new_pmf.Normalize()\n",
    "    return new_pmf\n",
    "\n",
    "# For each group of number of children under 18, x, lets multiply the probability by x, the number of children \n",
    "# who observe that family size (number of children in fanily under 18 years of age). \n",
    "# The result is a new Pmf that represents the biased distribution.\n",
    "biased_pmf = BiasPmf(pmf_actual, label='observed')\n",
    "biased_pmf.Total()\n",
    "biased_pmf\n",
    "print('Mean of observed PMFs =', biased_pmf.Mean())"
   ]
  },
  {
   "cell_type": "code",
   "execution_count": 23,
   "id": "a2f3a184",
   "metadata": {},
   "outputs": [
    {
     "data": {
      "image/png": "[encoded data removed]",
      "text/plain": [
       "<Figure size 640x480 with 1 Axes>"
      ]
     },
     "metadata": {},
     "output_type": "display_data"
    },
    {
     "data": {
      "text/plain": [
       "<Figure size 800x600 with 0 Axes>"
      ]
     },
     "metadata": {},
     "output_type": "display_data"
    }
   ],
   "source": [
    "# Plotting actual vs observed PMFs\n",
    "\n",
    "thinkplot.PrePlot(2)\n",
    "thinkplot.Pmfs([pmf_actual, biased_pmf])\n",
    "thinkplot.Show(xlabel='family size /number of children under 18 groups', ylabel='PMF')"
   ]
  },
  {
   "cell_type": "code",
   "execution_count": null,
   "id": "d3de4245",
   "metadata": {},
   "outputs": [],
   "source": [
    "# OBSERVATION \n",
    "# -----------\n",
    "#  In the biased distribution there are fewer small family sizes / children groups under 18 and more large ones. \n",
    "# The mean of the biased distribution is 2.40, almost 150% higher than the actual mean."
   ]
  },
  {
   "cell_type": "markdown",
   "id": "b98b15cb",
   "metadata": {},
   "source": [
    "### 3-2 Computing mean and variance from PMF"
   ]
  },
  {
   "cell_type": "code",
   "execution_count": 26,
   "id": "a85266af",
   "metadata": {},
   "outputs": [],
   "source": [
    "# Function to derive mean from PMF\n",
    "# Function takes disctionary d as input with x as items and values as their corresponding pmfs\n",
    "# Python dictionary keys are always unique and uniqueness check is not needed\n",
    "def PmfMean(d):\n",
    "    mean = 0\n",
    "    for x, pmf in d.Items():\n",
    "        mean = mean + (x*pmf)\n",
    "        \n",
    "    return mean\n",
    "\n",
    "\n",
    "# Function to derive variance from PMF\n",
    "# Function takes disctionary d as input with x as items and values as their corresponding pmfs\n",
    "# Python dictionary keys are always unique and uniqueness check is not needed\n",
    "def PmfVar(d):\n",
    "    # call PmfMean to get the mean\n",
    "    mean = PmfMean(d)\n",
    "    var = 0\n",
    "    \n",
    "    for x, pmf in d.Items():\n",
    "        var = var + pmf*((x - mean)**2)\n",
    "        \n",
    "    return var"
   ]
  },
  {
   "cell_type": "code",
   "execution_count": 27,
   "id": "662016fd",
   "metadata": {},
   "outputs": [
    {
     "name": "stdout",
     "output_type": "stream",
     "text": [
      "1.024205155043831\n",
      "1.024205155043831\n"
     ]
    }
   ],
   "source": [
    "# Test and validate PmfMean() function\n",
    "# Using pmf_actual PMF representing number of children less than 18 years of age in the family.\n",
    "print(PmfMean(pmf_actual))\n",
    "print(pmf_actual.Mean())"
   ]
  },
  {
   "cell_type": "code",
   "execution_count": 28,
   "id": "7a60fee8",
   "metadata": {
    "scrolled": true
   },
   "outputs": [
    {
     "name": "stdout",
     "output_type": "stream",
     "text": [
      "1.4128643263531195\n",
      "1.4128643263531195\n"
     ]
    }
   ],
   "source": [
    "# Test and validate PmfVar() function\n",
    "# Using pmf_actual PMF representing number of children less than 18 years of age in the family.\n",
    "print(PmfVar(pmf_actual))\n",
    "print(pmf_actual.Var())"
   ]
  },
  {
   "cell_type": "markdown",
   "id": "14be7661",
   "metadata": {},
   "source": [
    "### 4-1 Compute percentile rank for your birth weight in live pregnancy dataset. Utilize first live pregnancy if you were first kid else utilize other live pregnancies dataset."
   ]
  },
  {
   "cell_type": "markdown",
   "id": "1e301417",
   "metadata": {},
   "source": [
    "#### Using the code below from week 3 to create first live and all other live pregnancy datasets"
   ]
  },
  {
   "cell_type": "code",
   "execution_count": 30,
   "id": "e51a1bde",
   "metadata": {},
   "outputs": [
    {
     "data": {
      "text/plain": [
       "True     9148\n",
       "False    4445\n",
       "Name: outcome, dtype: int64"
      ]
     },
     "execution_count": 30,
     "metadata": {},
     "output_type": "execute_result"
    }
   ],
   "source": [
    "# creating a data filter with live births as we are conserned with finding about first pregnancy tenure\n",
    "filter_live_preg = df_preg['outcome']==1\n",
    "filter_live_preg.value_counts()"
   ]
  },
  {
   "cell_type": "code",
   "execution_count": 31,
   "id": "55c877a0",
   "metadata": {},
   "outputs": [
    {
     "data": {
      "text/plain": [
       "1    9148\n",
       "Name: outcome, dtype: int64"
      ]
     },
     "execution_count": 31,
     "metadata": {},
     "output_type": "execute_result"
    }
   ],
   "source": [
    "# create a data frame with live births only\n",
    "df_live_preg = df_preg[filter_live_preg]\n",
    "df_live_preg['outcome'].value_counts()\n",
    "# all pregnancies with outcome != 1 (live birth) are filtered out"
   ]
  },
  {
   "cell_type": "code",
   "execution_count": 32,
   "id": "555c7c1e",
   "metadata": {},
   "outputs": [],
   "source": [
    "# creating the data two data frames \n",
    "# 1. first live pregnancies\n",
    "# 2. all other (second to last) live pregnancies\n",
    "filter_first_live_preg = df_live_preg['birthord']==1\n",
    "df_first_live_preg = df_live_preg[filter_first_live_preg]\n",
    "df_all_other_live_preg = df_live_preg[~filter_first_live_preg]"
   ]
  },
  {
   "cell_type": "code",
   "execution_count": 33,
   "id": "cd235f4e",
   "metadata": {},
   "outputs": [
    {
     "data": {
      "text/plain": [
       "count    9148.000000\n",
       "mean       38.560560\n",
       "std         2.702344\n",
       "min         0.000000\n",
       "25%        39.000000\n",
       "50%        39.000000\n",
       "75%        39.000000\n",
       "max        50.000000\n",
       "Name: prglngth, dtype: float64"
      ]
     },
     "execution_count": 33,
     "metadata": {},
     "output_type": "execute_result"
    }
   ],
   "source": [
    "df_live_preg['prglngth'].describe()\n",
    "# We can see some summary stats i.e. mean, standard deviation, different percentiles etc\n",
    "# Mean or average of live pregnancies is 38.56 weeks"
   ]
  },
  {
   "cell_type": "code",
   "execution_count": 34,
   "id": "e54a3b6c",
   "metadata": {},
   "outputs": [
    {
     "data": {
      "text/plain": [
       "count    4413.000000\n",
       "mean       38.600952\n",
       "std         2.791901\n",
       "min         0.000000\n",
       "25%        39.000000\n",
       "50%        39.000000\n",
       "75%        40.000000\n",
       "max        48.000000\n",
       "Name: prglngth, dtype: float64"
      ]
     },
     "execution_count": 34,
     "metadata": {},
     "output_type": "execute_result"
    }
   ],
   "source": [
    "# check first live pregnancy data frame\n",
    "df_first_live_preg.columns\n",
    "df_first_live_preg['prglngth'].describe()\n",
    "# We can see some summary stats i.e. mean, standard deviation, different percentiles etc\n",
    "# Mean or average of first live pregnancies is 38.6 weeks"
   ]
  },
  {
   "cell_type": "code",
   "execution_count": 35,
   "id": "1184c970",
   "metadata": {},
   "outputs": [
    {
     "data": {
      "text/plain": [
       "count    4735.000000\n",
       "mean       38.522914\n",
       "std         2.615852\n",
       "min         4.000000\n",
       "25%        39.000000\n",
       "50%        39.000000\n",
       "75%        39.000000\n",
       "max        50.000000\n",
       "Name: prglngth, dtype: float64"
      ]
     },
     "execution_count": 35,
     "metadata": {},
     "output_type": "execute_result"
    }
   ],
   "source": [
    "# check all other first live pregnancy data frame\n",
    "df_all_other_live_preg.columns\n",
    "df_all_other_live_preg['prglngth'].describe()\n",
    "# We can see some summary stats i.e. mean, standard deviation, different percentiles etc\n",
    "# Mean or average of first live pregnancies is 38.52 weeks"
   ]
  },
  {
   "cell_type": "code",
   "execution_count": 161,
   "id": "691b6ce0",
   "metadata": {},
   "outputs": [
    {
     "data": {
      "text/plain": [
       "count    4363.000000\n",
       "mean        7.201094\n",
       "std         1.420573\n",
       "min         0.125000\n",
       "25%         6.437500\n",
       "50%         7.312500\n",
       "75%         8.000000\n",
       "max        15.437500\n",
       "Name: totalwgt_lb, dtype: float64"
      ]
     },
     "execution_count": 161,
     "metadata": {},
     "output_type": "execute_result"
    }
   ],
   "source": [
    "# Check summary stats of totalwgt_lb in first live pregnancy data frame\n",
    "df_first_live_preg['totalwgt_lb'].describe()\n",
    "# We can see some summary stats i.e. mean, standard deviation, different percentiles etc\n",
    "# Mean or average of baby's total weight in case of first live pregnancies is 7.20 pounds"
   ]
  },
  {
   "cell_type": "code",
   "execution_count": 164,
   "id": "57a0b314",
   "metadata": {},
   "outputs": [
    {
     "data": {
      "text/plain": [
       "count    4675.000000\n",
       "mean        7.325856\n",
       "std         1.394195\n",
       "min         0.562500\n",
       "25%         6.500000\n",
       "50%         7.375000\n",
       "75%         8.187500\n",
       "max        14.000000\n",
       "Name: totalwgt_lb, dtype: float64"
      ]
     },
     "execution_count": 164,
     "metadata": {},
     "output_type": "execute_result"
    }
   ],
   "source": [
    "# Check summary stats of totalwgt_lb in all other live pregnancy data frame\n",
    "df_all_other_live_preg['totalwgt_lb'].describe()\n",
    "# We can see some summary stats i.e. mean, standard deviation, different percentiles etc\n",
    "# Mean or average of baby's total weight in case of all other live pregnancies is 7.32 pounds"
   ]
  },
  {
   "cell_type": "code",
   "execution_count": 38,
   "id": "e697a244",
   "metadata": {},
   "outputs": [
    {
     "data": {
      "text/plain": [
       "17.36898395721925"
      ]
     },
     "execution_count": 38,
     "metadata": {},
     "output_type": "execute_result"
    }
   ],
   "source": [
    "# My childhood birth in pounds was 6.2 pounds. Yeah pretty light baby. \n",
    "# I was second baby so I will look into all other live pregnancies daatset to determine my percentile rank.\n",
    "# Calculating cdfs (cumulative distribution function) for toatl birthweight in all other live pregnancies.\n",
    "other_cdf = thinkstats2.Cdf(df_all_other_live_preg['totalwgt_lb'], label='other')\n",
    "# Use PercentileRank method of cdf object to get the percentile rank for my birth weight.\n",
    "other_cdf.PercentileRank(6.2)\n",
    "# As suspected I was pretty light at the time of birth. I guess I do not need to apologize to my mom :)"
   ]
  },
  {
   "cell_type": "markdown",
   "id": "396a8420",
   "metadata": {},
   "source": [
    "### 4-2 Are numbers generated by random.random have same probability of occurence?"
   ]
  },
  {
   "cell_type": "code",
   "execution_count": 39,
   "id": "aeaaf3c2",
   "metadata": {},
   "outputs": [
    {
     "name": "stdout",
     "output_type": "stream",
     "text": [
      "[0.06968392861144601, 0.6538085723772822, 0.7959030567549803, 0.5190874554371011, 0.13532292544015967, 0.6718959992324827, 0.4018012663796776, 0.7050041038653536, 0.543284648764944, 0.5980628453686979, 0.9164415998343963, 0.5433717416629638, 0.2365499486198851, 0.7795343554840652, 0.11180748793252437, 0.7920120357368338, 0.9219289241068301, 0.005224472718036388, 0.23485217272582837, 0.48949580011611205, 0.09009976227380623, 0.2506997776115444, 0.06923112114887509, 0.574016366591019, 0.25708305571601775, 0.49030911875651473, 0.8886845395452615, 0.49140656573766495, 0.21771822297917331, 0.6338245335483008, 0.44257691875473204, 0.07316449644712764, 0.8473599164599047, 0.1531907073063119, 0.23716409401948046, 0.5993439728986433, 0.0941681826890507, 0.7361817934109708, 0.10609660488405637, 0.4926230167166521, 0.4129923108269419, 0.42919783807049106, 0.8610264542533255, 0.14732206572069995, 0.33662902004960515, 0.9741270601303977, 0.4958108521504624, 0.34090903474485645, 0.720044157657705, 0.4267614848611393, 0.46600857066333934, 0.15335328940566628, 0.12899080708447863, 0.7641332041594127, 0.6060286721250915, 0.2181021271121435, 0.03278019580922553, 0.1741349366075492, 0.13437115077437511, 0.06185016274918431, 0.04188989425415912, 0.19159149402394648, 0.3483441774087973, 0.8518703148605907, 0.8553048882796562, 0.966009839696614, 0.6793467919995153, 0.07397401664370051, 0.09389219964889917, 0.35227232838066846, 0.6589708222308162, 0.18833589272481233, 0.4057998582494413, 0.17380324177013684, 0.14868443206003668, 0.5878561045068619, 0.8187297038074568, 0.6320929745219551, 0.5944553222120205, 0.8272184042685885, 0.15523045004951208, 0.5809080171653327, 0.8743009467709261, 0.22644379960892846, 0.3498148807635312, 0.313002615055499, 0.03577882127673859, 0.5757188711884939, 0.568972907998986, 0.2709992042232757, 0.3983255832625191, 0.697230770074959, 0.41137797887872407, 0.07580912873100942, 0.44342350301906797, 0.7527372801035663, 0.119580013356682, 0.9402274614033432, 0.17203466780229815, 0.05473885400029721, 0.7145874571308817, 0.8152082476781156, 0.7675067309174414, 0.796205475949683, 0.631094662220048, 0.24180930489432406, 0.3305107104545434, 0.5501040558519246, 0.29359120179654685, 0.2227026011466502, 0.37386129449204497, 0.41845614396823216, 0.5068888225494362, 0.3894822065103921, 0.14716482457115243, 0.6516570643880447, 0.041220413908815035, 0.12731634075467213, 0.3187700667788155, 0.097264141888039, 0.7428345862877949, 0.14860521479057376, 0.17681268081898294, 0.210200844952539, 0.8370983967262722, 0.001764013455747504, 0.2086073044616381, 0.19393861795001344, 0.7575579092467171, 0.7944951479015455, 0.35336850134230013, 0.9946521125613946, 0.3698761823418687, 0.6418744570851375, 0.9156087268866397, 0.17877302473468326, 0.66183893251992, 0.7530394309699299, 0.3944633150515662, 0.2789103410244357, 0.5182426435894181, 0.7652734033335256, 0.35940242303072667, 0.8401133369624437, 0.3249533966014422, 0.5786794699154789, 0.823246322108227, 0.16663380351986068, 0.8717288467114978, 0.9575428938864574, 0.9990467454391786, 0.3357300200141612, 0.06312943409630278, 0.2571014747068966, 0.5942417086763965, 0.14729705845450558, 0.8408044076168493, 0.896613980107798, 0.1332491386550657, 0.7957466274238095, 0.5042812782257532, 0.0406940289191805, 0.35848299357828484, 0.2996247114667594, 0.37268523053602665, 0.009835962287765176, 0.37343544571369935, 0.465341171692643, 0.7613406607377082, 0.7643968127889667, 0.7010822021760948, 0.050577464014020634, 0.6631904045272631, 0.8157831367174626, 0.9132785763475918, 0.07333633928650274, 0.9962956873043428, 0.86559749779418, 0.681771743347905, 0.32612961162177945, 0.28346261705193376, 0.9764987905302939, 0.0860859165384592, 0.23728602496759654, 0.7284655385368548, 0.24019667301495895, 0.34214762777760876, 0.6516257204257064, 0.22559286246935395, 0.4292031758227901, 0.4739982711360572, 0.5511779407372379, 0.3264253907956366, 0.00886660178387988, 0.20871797237176548, 0.062258533612733036, 0.910929787697149, 0.637635528203681, 0.4471572680806072, 0.012283414226339828, 0.27076214241046515, 0.9592779745452774, 0.9360826212219615, 0.6395015146565546, 0.5293445032864695, 0.19487917840479585, 0.5609133475033338, 0.4961001939115528, 0.09843798356551337, 0.499072651468241, 0.43743353287044795, 0.8553063567219955, 0.6178120883268794, 0.7136915486284398, 0.7951502511170904, 0.548499584050569, 0.5128604157173304, 0.020286517140266858, 0.6022944923536172, 0.9551967342785436, 0.4605194994472588, 0.8174507350160002, 0.7955338948303445, 0.3867125622113171, 0.6319850086135104, 0.46629172098867566, 0.6561431782851753, 0.6393270783332369, 0.12364489175333393, 0.3366053860155238, 0.7583187901065106, 0.33872996281992107, 0.01104446206284937, 0.49879031927991213, 0.1392410573335101, 0.004896149302700992, 0.7188113348408296, 0.21993861891567723, 0.15882266553984048, 0.2288839602380225, 0.6715468015028988, 0.5802058718499155, 0.35705087337418107, 0.8713929991298006, 0.8054212519698156, 0.8868073084518571, 0.11707454937745854, 0.45282595673849235, 0.4510792406261874, 0.33710471089166616, 0.6382192007103132, 0.6383539186392433, 0.8358674637913243, 0.6080114320786324, 0.06609732976820593, 0.49988139100071294, 0.7860246075851712, 0.012944048456585922, 0.2915235822112926, 0.04520144878698795, 0.7711023818050056, 0.1668815681342709, 0.2591500845302658, 0.08242753575993111, 0.043346258544479266, 0.5354789517005407, 0.9259325360160572, 0.2151832509530741, 0.09531674303026616, 0.9159900893517687, 0.7108667798731181, 0.10554269524077875, 0.8457267379114243, 0.46984468543804503, 0.21899830745336524, 0.24894441018721813, 0.5746373616764082, 0.010198605378065051, 0.2631013122626905, 0.9651940230727029, 0.23637715732972864, 0.22265465187750677, 0.8532832255215533, 0.24675995075921975, 0.7204356088799723, 0.08529136399993009, 0.7759997022441473, 0.2682577847991129, 0.09164556953559588, 0.8034043939854533, 0.22439210828759693, 0.783288643441461, 0.14348098191738468, 0.3034348482584629, 0.1940231066114303, 0.810320188398128, 0.1375283410597935, 0.8137277649362841, 0.2173095189441292, 0.9274307134973797, 0.44015326475155714, 0.7356661157923433, 0.7078553512054401, 0.5067786558645048, 0.08919960741198307, 0.7275486894909665, 0.6648435845201195, 0.5055474129950759, 0.295234654099788, 0.049885832032463995, 0.0852094233592331, 0.447161531277666, 0.6929962513222279, 0.8388097481661004, 0.9333684976903406, 0.7248599969686746, 0.4366739135498966, 0.8079395599410518, 0.49394692959532727, 0.4578439866089675, 0.42114326774768296, 0.06266437077360854, 0.3167968026214639, 0.42417812801376764, 0.2141137850106556, 0.7802933335151553, 0.36007945172652933, 0.4735378306366326, 0.20088759037839976, 0.6803013355727618, 0.8130157971548748, 0.391264865982486, 0.30841935099147666, 0.6372032458310293, 0.09915148245885008, 0.23123388368509135, 0.4818561567943761, 0.3873436123257755, 0.9637928298255926, 0.41807615708022694, 0.8384055677668469, 0.9298930940738854, 0.29946434328493676, 0.7629931624732473, 0.5674765181417086, 0.9103290161711747, 0.8415342770502311, 0.5058581323200241, 0.6872993978575622, 0.5028728812346525, 0.3674259265504821, 0.4913848257651928, 0.5446541369671534, 0.9212514894663575, 0.5235859841264399, 0.4558465345299968, 0.8508579017057555, 0.7918716542938496, 0.5263731358355155, 0.8121579699992273, 0.25419054733339674, 0.44778451708854194, 0.6858367829441259, 0.5883430583096987, 0.21509019550166442, 0.3775201401449808, 0.8641902255217312, 0.449322593268661, 0.08014265166115342, 0.5227969220508626, 0.403958814020269, 0.4522212609879872, 0.7332810026754423, 0.24862122845251922, 0.6985992463967444, 0.9182322317324184, 0.9770421676424599, 0.19726496476354582, 0.18669650784838987, 0.547770487157453, 0.07844093014631792, 0.3074083062765399, 0.10340051635712477, 0.583986885381097, 0.7059713638622663, 0.8459142924262893, 0.5595667774722526, 0.45647799852348603, 0.24109251353213257, 0.4019550888361829, 0.277771295471399, 0.9864946398973516, 0.9297626120198927, 0.514984037593743, 0.563799471724311, 0.2305831733475362, 0.22890400517689258, 0.8027470520781489, 0.7980105818709113, 0.8983720982277728, 0.3400800438845142, 0.53180337222127, 0.3113027156759156, 0.21625946612353053, 0.6208318937595697, 0.4821502035860509, 0.7492479012304384, 0.7082867095744001, 0.9967733111715129, 0.4683341322543927, 0.5672987570455759, 0.2495847956368692, 0.03412460133601347, 0.27075627999420604, 0.558352725168549, 0.5552440476945928, 0.3033402267141361, 0.95696308470249, 0.4215331109336321, 0.23566980559312112, 0.6521607180921702, 0.34546405443801254, 0.07007611283950854, 0.5637294728134622, 0.8053642028545739, 0.058771713072728105, 0.7542322196480412, 0.5014559803597824, 0.025001834626897756, 0.23483402738653614, 0.03164410444511956, 0.12532220436173902, 0.6913642291333162, 0.21691680204511632, 0.6872655386452455, 0.8326474802573752, 0.7103472937316565, 0.3141068443948525, 0.3931233215326676, 0.17181340923578303, 0.013191015962789598, 0.7256071792298595, 0.5581617487009416, 0.37499358996075016, 0.8175301581711265, 0.5628585073196092, 0.899830536795773, 0.8066412648448831, 0.60251388204076, 0.8148391004318055, 0.6409525646766296, 0.3328053075732994, 0.2774559441298966, 0.3375685833091301, 0.23981298781109528, 0.7511132984034352, 0.500561920979985, 0.8218442030422012, 0.15877114812614934, 0.5617160820514718, 0.6225919528801744, 0.8819905617879322, 0.04243738523763019, 0.7814603671811363, 0.5518672315967235, 0.989563575292775, 0.554196331144815, 0.5247343208985746, 0.2811169068628431, 0.22514753857014058, 0.9266154403184929, 0.9480738563579977, 0.12397310312100784, 0.9225293096268807, 0.18280443498502907, 0.9987243556954114, 0.36455978641708253, 0.22280364946126097, 0.9250022791231226, 0.9233825640709346, 0.708117883408238, 0.8127816003514653, 0.31649949130422905, 0.6296777362007909, 0.8727335877938337, 0.46963717499028557, 0.5907056148003946, 0.654511221163918, 0.8213278431428556, 0.45444044522250515, 0.004866184769010129, 0.8237932415413062, 0.06255572156045652, 0.6633270000099625, 0.001972386588735775, 0.3274525269627585, 0.0574546019451222, 0.684037449364982, 0.1444927310212274, 0.6528281706498528, 0.19004057832226817, 0.9800354750889582, 0.19312714564881506, 0.4980639245340156, 0.31153934002821526, 0.6441195654589632, 0.8347208371529153, 0.03006285307800416, 0.26331769042818554, 0.13497286957792798, 0.24193794089603726, 0.26370293104689035, 0.6992803199922496, 0.42308317960756814, 0.17793670096695913, 0.6862384853959421, 0.29499952907223514, 0.8738451293332449, 0.11907244396780592, 0.8920906137732858, 0.3813890267601968, 0.5487033404117537, 0.3665425864642554, 0.8438911017090811, 0.11201867032740831, 0.7628858487521819, 0.07543691136521458, 0.6865367750861017, 0.6399369114654784, 0.14744747335115516, 0.063005109869394, 0.7191250451402453, 0.872346363454508, 0.8043082183639226, 0.8423044241314228, 0.9888645436453074, 0.5999630427543717, 0.797253404895736, 0.2981257987295248, 0.8241367684933263, 0.4468348164842201, 0.6407695508913497, 0.5524441050669487, 0.7360437478456261, 0.04138534188482834, 0.6993766354606775, 0.9073316213755094, 0.7616972298102216, 0.5090809181085533, 0.34574516975046876, 0.2277734791556345, 0.05730164715580388, 0.5223551468938101, 0.5174355122795525, 0.6201054904737586, 0.2788635112252802, 0.1749009390917876, 0.6668079922988093, 0.33276061817735125, 0.026205760995114624, 0.6301628347573008, 0.7369879878815392, 0.4949100109790291, 0.9024970158096205, 0.18244914791083655, 0.9064652652849466, 0.5583946179369065, 0.3212850844995737, 0.9430067987229075, 0.44149768995222205, 0.6490705075949902, 0.4588478227008732, 0.6196840099615896, 0.026226153100186056, 0.5741402484572163, 0.13770312684673314, 0.6003835108584035, 0.5941507329826369, 0.01927376097071609, 0.34886156527316237, 0.751615836320909, 0.8923905878956666, 0.582516788862241, 0.9177256670826212, 0.37046976149738975, 0.5720781019799794, 0.30517573206306714, 0.32741704614859013, 0.47419048062412383, 0.9470997990749987, 0.10480186527737922, 0.28002530177650753, 0.04944547921792963, 0.10439558223406764, 0.1268410265151685, 0.7551065164516931, 0.6941633417230352, 0.8959219179705338, 0.2009575786052965, 6.722216836618777e-06, 0.5881319985402164, 0.80812759036557, 0.7509890290030219, 0.41646911825630073, 0.4483920111797388, 0.6889405430819517, 0.3554515970065253, 0.09814226331434339, 0.23987306120318508, 0.9164169262295352, 0.4929079002823652, 0.5276363134042041, 0.13500949247260285, 0.39840439185843635, 0.9865031769961068, 0.6521390372955834, 0.07705821331263529, 0.520563080787882, 0.3496609910344125, 0.12712221241055177, 0.07095892128863157, 0.17329721712218293, 0.9915273907510367, 0.5664816664350502, 0.7731697739556626, 0.501315264195692, 0.02386379263611471, 0.18827488794352099, 0.30157017530477326, 0.2645572700592994, 0.25637831951271406, 0.5073071742602808, 0.7123853921275628, 0.7775630842984796, 0.5760236529191773, 0.8485714770802438, 0.7297423465703873, 0.5688384476320849, 0.6927442507212151, 0.8817578004777186, 0.33179255566886134, 0.8117136143641428, 0.9399530959000415, 0.6753869695256853, 0.4378678437020007, 0.17255559439153634, 0.0879086431488294, 0.4341113837617757, 0.33522400895070126, 0.476828909282378, 0.5898533843963195, 0.31190050584984486, 0.29731995846063564, 0.6959556732457544, 0.02828900422028191, 0.15143113656358043, 0.7631731086441016, 0.7732095727687944, 0.8295251419913277, 0.036290405390440594, 0.6706376616671798, 0.9863050158260789, 0.4499645804095602, 0.7390500948489062, 0.11693913810135914, 0.8631873254817084, 0.20786726061108163, 0.4463835253141125, 0.16724897196819444, 0.907560872871644, 0.364664683881324, 0.14774964206751384, 0.20864222667214738, 0.5841908987535023, 0.6165696983664016, 0.5682060906883917, 0.11108349635461712, 0.649197802741982, 0.8136052779904746, 0.7883440499727241, 0.20975813255539333, 0.21556705839925816, 0.8845163924655806, 0.9797904437488385, 0.7767628699575208, 0.8988582128434965, 0.03477918372966926, 0.9657999034611559, 0.8196215929360283, 0.10218475394640425, 0.44575965790377226, 0.9643270714158184, 0.7721166001682789, 0.9102219934827721, 0.640722194632762, 0.34460191721609035, 0.5167236311725615, 0.8018187259068046, 0.5942769726403323, 0.2972584930992943, 0.20625676077567234, 0.027603531206349063, 0.90647912925255, 0.7812715969064015, 0.31871305731620836, 0.005326730087563791, 0.4424193107387734, 0.7052593284372191, 0.312872731863564, 0.6733073874828078, 0.38309778094506874, 0.6178189455631744, 0.19256970015119623, 0.069842690074853, 0.4278732179068191, 0.28197066160887607, 0.7103810576896328, 0.07006310112937797, 0.4096436160149869, 0.8316559060882288, 0.09458246534879677, 0.4269912031182814, 0.18823830003050546, 0.031048090328992806, 0.017287679934323452, 0.9204379912994568, 0.822745025799364, 0.015105580440477828, 0.19115053621399503, 0.3953942309268609, 0.8148588564365484, 0.0795699097751913, 0.9465757391733033, 0.9578683284251028, 0.42710680813739565, 0.5698835854969527, 0.454511186645851, 0.7525748082557496, 0.05287873436921042, 0.4396701845179657, 0.22984801546897338, 0.624730187342489, 0.9279637831087924, 0.11520103876112553, 0.5258390899254313, 0.07903936499894826, 0.7354730087728152, 0.16336723915981666, 0.3660216049775553, 0.8294234072026467, 0.3050413260956978, 0.5136667456089864, 0.4764483775666508, 0.2568835694863836, 0.900496868610825, 0.17455675257656034, 0.973046623774443, 0.6413723125247843, 0.3876669660162342, 0.3173555144043716, 0.5683505020498176, 0.8324340338644411, 0.7393092114688642, 0.482829209894748, 0.300092568669042, 0.6310711001923064, 0.24328540510468433, 0.36502607957903943, 0.5820379549981308, 0.9865475770969013, 0.30944069042186706, 0.7706486490320542, 0.32116020015113456, 0.4086834750530668, 0.46421343700967665, 0.280220270112451, 0.5037598215607965, 0.7659414693065844, 0.8035570367807982, 0.6927625857684089, 0.11168732995992348, 0.16965463084973176, 0.3684088108982566, 0.9051830030485908, 0.3098850731815188, 0.4304260089180152, 0.4966924821773212, 0.9588325885574909, 0.04411519624999094, 0.8046234634879951, 0.35075114359713333, 0.10097870326780001, 0.5789022949982314, 0.7389016609645723, 0.24369932122096394, 0.6055871840677378, 0.8898051494126928, 0.2833856356897061, 0.8483417519161985, 0.6407481318493672, 0.2193297205374949, 0.13538499444637409, 0.9909781951920013, 0.12508502097255847, 0.25877920670845844, 0.15853299164763535, 0.962073338519523, 0.8575413149871373, 0.4374500399225345, 0.8240949920603601, 0.25717237572914897, 0.5378180994746143, 0.25365186406507945, 0.8707385406353535, 0.6119085661914817, 0.5936177836822413, 0.10752276905179348, 0.16125738769892795, 0.8301944409410449, 0.26467240084499455, 0.9214219493580788, 0.833075172290986, 0.6398299650213097, 0.4046502730664455, 0.9691152939047778, 0.5157862747445533, 0.2629775295533284, 0.3103476517358459, 0.29343302023395246, 0.03557847156218941, 0.44713145471553684, 0.14861743443861952, 0.535974689264336, 0.2699487360357634, 0.42673675590394744, 0.12887446299192296, 0.2418010520269981, 0.5155438280132336, 0.6410132352514533, 0.4449503785737421, 0.1546760575525723, 0.8122063051170825, 0.9465315785282509, 0.02884149950264936, 0.7682169479473198, 0.6798489342617513, 0.6443382176555147, 0.6297777100954627, 0.5179433310517128, 0.5043082357924197, 0.05530881861805503, 0.9963596286301859, 0.8362329897535958, 0.3772642356664475, 0.5323895181489182, 0.7497619005251684, 0.9531259454568222, 0.37126546253965764, 0.4948346771488432, 0.714439154266706, 0.08725398956895958, 0.47109346307298194, 0.9583341053570541, 0.6108532829833386, 0.6292942621496393, 0.431727668190093, 0.29399387825660883, 0.027309896120008115, 0.07386245995557017, 0.8503904401959395, 0.7169135867056323, 0.8596702438869251, 0.8745833525319123, 0.8148047962929572, 0.22834744104322935, 0.9061091140367187, 0.39622937375612544, 0.5584310096873667, 0.05434997747232129, 0.6047935125288213, 0.8814961169562531, 0.5362720407470674, 0.2731845073624487, 0.19275352148418667, 0.6179234858613419, 0.10417364982150046, 0.759758445120085, 0.6922881711893056, 0.11083634243949614, 0.1565873455065877, 0.21661842307010104, 0.38013228926588816, 0.5086951461247728, 0.4153535281231241, 0.25705776099767463, 0.09556096077249365, 0.8235101445893342, 0.5872996774003871, 0.9430724522227842, 0.29675477256083727, 0.5798114988284702, 0.9877619173195921, 0.3059759696794401, 0.2474509176472739, 0.9497971297560978, 0.9867682982856115, 0.6006088805419767, 0.43438227548228436, 0.8155392735862254, 0.1495503450209168, 0.6570543735430425, 0.6744676830889107, 0.460231850392649, 0.9414219611258848, 0.7814726679763015, 0.5570702412339694, 0.10207634824852863, 0.3237626501145259, 0.9927138985608607, 0.7931926717251566, 0.07517201044115163, 0.14930798011011104, 0.4179998310073567, 0.4031938969426898, 0.9715731719485584, 0.5235027826600699, 0.07736464820798361, 0.45139491382304986, 0.36994395238986155, 0.822399242910781, 0.31478495450568955, 0.6322028487767078, 0.501780435822951, 0.7978185282545368, 0.5470803982307777, 0.2111739319652064, 0.4071141814394086, 0.7168407136133209, 0.19483304035052196, 0.21273507759195442, 0.6786425633481307, 0.11800554139510522, 0.051657784514545835, 0.3742773427271253, 0.7590057931388219, 0.19009053847468127, 0.9736337368602185, 0.76547481884373, 0.6236977352242338, 0.7432372795760831, 0.07929426766389136, 0.5712324734105009, 0.015237940614246215, 0.6675807648247936, 0.5560104675969351, 0.9548062412377046, 0.592842638385379, 0.2148099876316243, 0.6135956332155739, 0.03661898500186078, 0.3681453102527811, 0.7495412213679209, 0.9947772042989562, 0.16261984666140128, 0.2818452857862074, 0.2014360957327026, 0.8611861747913298, 0.5344873202716133, 0.42848481109404, 0.2811705341739906, 0.2834506953884044, 0.3537738099043095, 0.3323433391150542, 0.5977709483163106, 0.1827688330678594, 0.7464925857059745, 0.09104059560624167, 0.9074927308416796, 0.6185824552642827, 0.5384880140327801, 0.5608131302164019, 0.6462193967142127, 0.8269667150559146, 0.5132126632739118, 0.7647386112229114, 0.0625815913656893, 0.9027743555651825, 0.03950536916943537, 0.9547687778047904, 0.07412817410156858, 0.8759753708915166, 0.7322561304905987, 0.47401858470788794, 0.011338673354276185, 0.02374216552035624, 0.11445687255254355, 0.06797242309447538, 0.8191521417896932, 0.05489499189794733, 0.5909300959061531]\n"
     ]
    }
   ],
   "source": [
    "# creating list of random 1000 numbers using random.random()\n",
    "# import random \n",
    "from random import random\n",
    "  \n",
    "lst = []\n",
    " \n",
    "for i in range(1000):\n",
    "  lst.append(random())\n",
    "   \n",
    "# Prints random items\n",
    "print(lst)"
   ]
  },
  {
   "cell_type": "code",
   "execution_count": 43,
   "id": "9b021f9b",
   "metadata": {},
   "outputs": [],
   "source": [
    "# Creating pmf for random numnbers\n",
    "pmf_random = thinkstats2.Pmf(lst, label='pmf')\n",
    "# Creating cdf for random nunbers\n",
    "cdf_random = thinkstats2.Cdf(lst, label='cdf')"
   ]
  },
  {
   "cell_type": "code",
   "execution_count": 44,
   "id": "6954ab30",
   "metadata": {},
   "outputs": [
    {
     "data": {
      "image/png": "[encoded data removed]",
      "text/plain": [
       "<Figure size 640x480 with 1 Axes>"
      ]
     },
     "metadata": {},
     "output_type": "display_data"
    },
    {
     "data": {
      "text/plain": [
       "<Figure size 800x600 with 0 Axes>"
      ]
     },
     "metadata": {},
     "output_type": "display_data"
    }
   ],
   "source": [
    "# Plotting the pmf and cdf\n",
    "thinkplot.PrePlot(2)\n",
    "thinkplot.Cdfs([pmf_random, cdf_random])\n",
    "thinkplot.Show(xlabel='Random 1000 numbers', ylabel='Mass functions')\n",
    "# Clearly per figure below pmf line is straight continuous line between 0 and 1 and represents uniform distribution.\n",
    "# CDF plot also shows cumulative straigh diagonal line from 0 to 1 and thus it represents a uniform ditribution."
   ]
  }
 ],
 "metadata": {
  "kernelspec": {
   "display_name": "Python 3 (ipykernel)",
   "language": "python",
   "name": "python3"
  },
  "language_info": {
   "codemirror_mode": {
    "name": "ipython",
    "version": 3
   },
   "file_extension": ".py",
   "mimetype": "text/x-python",
   "name": "python",
   "nbconvert_exporter": "python",
   "pygments_lexer": "ipython3",
   "version": "3.9.13"
  }
 },
 "nbformat": 4,
 "nbformat_minor": 5
}
