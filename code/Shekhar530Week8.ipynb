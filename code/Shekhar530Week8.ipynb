{
 "cells": [
  {
   "cell_type": "code",
   "execution_count": 2,
   "id": "cd344942-b829-4bdf-8c54-07f46a98b6ad",
   "metadata": {},
   "outputs": [],
   "source": [
    "# -------------------------------------------------------------------------------------------------------------------\n",
    "# Course name - Exploratory data analysis\n",
    "# Course code - DSC530\n",
    "# Week 8 assignment\n",
    "# Script name - Shekhar530Week8.ipynb\n",
    "# Creator - Manish Shekhar\n",
    "# Date created - Jan 30th - Feb 3rd 2023\n",
    "# -------------------------------------------------------------------------------------------------------------------"
   ]
  },
  {
   "cell_type": "markdown",
   "id": "afe70066-5a17-4198-a284-e8c1d4776471",
   "metadata": {},
   "source": [
    "#### Example 9-1 :  As sample size increases, the power of a hypothesis test increases, which means it is more likely to be positive if the effect is\n",
    "#### real. Conversely, as sample size decreases, the test is less likely to be positive even if the effect is real.To investigate this behavior, \n",
    "#### run the tests in this chapter with different subsets of the NSFG data. You can use thinkstats2.SampleRows to select a random subset of the rows \n",
    "#### in a DataFrame. What happens to the p-values of these tests as the sample size decreases? What is the smallest sample size that yields a positive test?"
   ]
  },
  {
   "cell_type": "code",
   "execution_count": 53,
   "id": "57fadbe9-216e-4f76-9485-f179635c1a61",
   "metadata": {},
   "outputs": [],
   "source": [
    "import numpy as np\n",
    "import random\n",
    "import thinkstats2\n",
    "import thinkplot\n",
    "import matplotlib\n",
    "import pandas\n",
    "import matplotlib.pyplot as plt"
   ]
  },
  {
   "cell_type": "code",
   "execution_count": 6,
   "id": "6936d40b-42b9-4406-b6db-e6475fcf54fb",
   "metadata": {},
   "outputs": [],
   "source": [
    "# To compute the p-value of an observed difference in means, we can assume that there is no difference between the groups \n",
    "# and generate simulated results by shuffling the data.\n",
    "\n",
    "class DiffMeansPermute(thinkstats2.HypothesisTest):\n",
    "\n",
    "    def TestStatistic(self, data):\n",
    "        group1, group2 = data\n",
    "        test_stat = abs(group1.mean() - group2.mean())\n",
    "        return test_stat\n",
    "\n",
    "    def MakeModel(self):\n",
    "        group1, group2 = self.data\n",
    "        self.n, self.m = len(group1), len(group2)\n",
    "        self.pool = np.hstack((group1, group2))\n",
    "\n",
    "    def RunModel(self):\n",
    "        np.random.shuffle(self.pool)\n",
    "        data = self.pool[:self.n], self.pool[self.n:]\n",
    "        return data"
   ]
  },
  {
   "cell_type": "code",
   "execution_count": 13,
   "id": "3d35641e-e7ce-4d4d-b53c-abd507cee554",
   "metadata": {},
   "outputs": [],
   "source": [
    "# To check whether an observed correlation is statistically significant, we can run a permutation test with a different test statistic.\n",
    "\n",
    "class CorrelationPermute(thinkstats2.HypothesisTest):\n",
    "\n",
    "    def TestStatistic(self, data):\n",
    "        xs, ys = data\n",
    "        test_stat = abs(thinkstats2.Corr(xs, ys))\n",
    "        return test_stat\n",
    "\n",
    "    def RunModel(self):\n",
    "        xs, ys = self.data\n",
    "        xs = np.random.permutation(xs)\n",
    "        return xs, ys"
   ]
  },
  {
   "cell_type": "code",
   "execution_count": 14,
   "id": "577ce2d6-380b-4ddf-bfcf-ab2b16053efd",
   "metadata": {},
   "outputs": [],
   "source": [
    "# Chi-squared test for pregnancy length\n",
    "\n",
    "class PregLengthTest(thinkstats2.HypothesisTest):\n",
    "\n",
    "    def MakeModel(self):\n",
    "        firsts, others = self.data\n",
    "        self.n = len(firsts)\n",
    "        self.pool = np.hstack((firsts, others))\n",
    "\n",
    "        pmf = thinkstats2.Pmf(self.pool)\n",
    "        self.values = range(35, 44)\n",
    "        self.expected_probs = np.array(pmf.Probs(self.values))\n",
    "\n",
    "    def RunModel(self):\n",
    "        np.random.shuffle(self.pool)\n",
    "        data = self.pool[:self.n], self.pool[self.n:]\n",
    "        return data\n",
    "    \n",
    "    def TestStatistic(self, data):\n",
    "        firsts, others = data\n",
    "        stat = self.ChiSquared(firsts) + self.ChiSquared(others)\n",
    "        return stat\n",
    "\n",
    "    def ChiSquared(self, lengths):\n",
    "        hist = thinkstats2.Hist(lengths)\n",
    "        observed = np.array(hist.Freqs(self.values))\n",
    "        expected = self.expected_probs * len(lengths)\n",
    "        stat = sum((observed - expected)**2 / expected)\n",
    "        return stat"
   ]
  },
  {
   "cell_type": "code",
   "execution_count": 18,
   "id": "61cb9825-9088-4036-bfce-b02c7e78d1e6",
   "metadata": {},
   "outputs": [],
   "source": [
    "# Running three different tests\n",
    "# test1: difference in mean pregnancy length\n",
    "# test2: difference in mean birth weight\n",
    "# test3: correlation of mother's age and birth weight\n",
    "# test4: chi-square test of pregnancy length\n",
    "\n",
    "def RunTests(live, iters=1000):\n",
    "    \"\"\"Runs the tests from Chapter 9 with a subset of the data.\n",
    "\n",
    "    live: DataFrame\n",
    "    iters: how many iterations to run\n",
    "    \"\"\"\n",
    "    n = len(live)\n",
    "    firsts = live[live.birthord == 1]\n",
    "    others = live[live.birthord != 1]\n",
    "\n",
    "    # compare pregnancy lengths\n",
    "    data = firsts.prglngth.values, others.prglngth.values\n",
    "    ht = DiffMeansPermute(data)\n",
    "    p1 = ht.PValue(iters=iters)\n",
    "\n",
    "    data = (firsts.totalwgt_lb.dropna().values,\n",
    "            others.totalwgt_lb.dropna().values)\n",
    "    ht = DiffMeansPermute(data)\n",
    "    p2 = ht.PValue(iters=iters)\n",
    "\n",
    "    # test correlation\n",
    "    live2 = live.dropna(subset=['agepreg', 'totalwgt_lb'])\n",
    "    data = live2.agepreg.values, live2.totalwgt_lb.values\n",
    "    ht = CorrelationPermute(data)\n",
    "    p3 = ht.PValue(iters=iters)\n",
    "\n",
    "    # compare pregnancy lengths (chi-squared)\n",
    "    data = firsts.prglngth.values, others.prglngth.values\n",
    "    ht = PregLengthTest(data)\n",
    "    p4 = ht.PValue(iters=iters)\n",
    "\n",
    "    print('%d\\t%0.2f\\t%0.2f\\t%0.2f\\t%0.2f' % (n, p1, p2, p3, p4))"
   ]
  },
  {
   "cell_type": "code",
   "execution_count": 1,
   "id": "31b9e9af-da47-42de-b598-4574be919b43",
   "metadata": {},
   "outputs": [],
   "source": [
    "# Reading the pregnancy data file and creating live, first, and others data frames\n",
    "# Capturing pregnancy lengths of first and others\n",
    "\n",
    "import first\n",
    "\n",
    "live, firsts, others = first.MakeFrames()\n",
    "data = firsts.prglngth.values, others.prglngth.values"
   ]
  },
  {
   "cell_type": "code",
   "execution_count": 2,
   "id": "0aef72e7-df49-417a-94d5-89cf4cd591f9",
   "metadata": {},
   "outputs": [
    {
     "data": {
      "text/html": [
       "<div>\n",
       "<style scoped>\n",
       "    .dataframe tbody tr th:only-of-type {\n",
       "        vertical-align: middle;\n",
       "    }\n",
       "\n",
       "    .dataframe tbody tr th {\n",
       "        vertical-align: top;\n",
       "    }\n",
       "\n",
       "    .dataframe thead th {\n",
       "        text-align: right;\n",
       "    }\n",
       "</style>\n",
       "<table border=\"1\" class=\"dataframe\">\n",
       "  <thead>\n",
       "    <tr style=\"text-align: right;\">\n",
       "      <th></th>\n",
       "      <th>caseid</th>\n",
       "      <th>pregordr</th>\n",
       "      <th>howpreg_n</th>\n",
       "      <th>howpreg_p</th>\n",
       "      <th>moscurrp</th>\n",
       "      <th>nowprgdk</th>\n",
       "      <th>pregend1</th>\n",
       "      <th>pregend2</th>\n",
       "      <th>nbrnaliv</th>\n",
       "      <th>multbrth</th>\n",
       "      <th>...</th>\n",
       "      <th>laborfor_i</th>\n",
       "      <th>religion_i</th>\n",
       "      <th>metro_i</th>\n",
       "      <th>basewgt</th>\n",
       "      <th>adj_mod_basewgt</th>\n",
       "      <th>finalwgt</th>\n",
       "      <th>secu_p</th>\n",
       "      <th>sest</th>\n",
       "      <th>cmintvw</th>\n",
       "      <th>totalwgt_lb</th>\n",
       "    </tr>\n",
       "  </thead>\n",
       "  <tbody>\n",
       "    <tr>\n",
       "      <th>0</th>\n",
       "      <td>1</td>\n",
       "      <td>1</td>\n",
       "      <td>NaN</td>\n",
       "      <td>NaN</td>\n",
       "      <td>NaN</td>\n",
       "      <td>NaN</td>\n",
       "      <td>6.0</td>\n",
       "      <td>NaN</td>\n",
       "      <td>1.0</td>\n",
       "      <td>NaN</td>\n",
       "      <td>...</td>\n",
       "      <td>0</td>\n",
       "      <td>0</td>\n",
       "      <td>0</td>\n",
       "      <td>3410.389399</td>\n",
       "      <td>3869.349602</td>\n",
       "      <td>6448.271112</td>\n",
       "      <td>2</td>\n",
       "      <td>9</td>\n",
       "      <td>NaN</td>\n",
       "      <td>8.8125</td>\n",
       "    </tr>\n",
       "    <tr>\n",
       "      <th>1</th>\n",
       "      <td>1</td>\n",
       "      <td>2</td>\n",
       "      <td>NaN</td>\n",
       "      <td>NaN</td>\n",
       "      <td>NaN</td>\n",
       "      <td>NaN</td>\n",
       "      <td>6.0</td>\n",
       "      <td>NaN</td>\n",
       "      <td>1.0</td>\n",
       "      <td>NaN</td>\n",
       "      <td>...</td>\n",
       "      <td>0</td>\n",
       "      <td>0</td>\n",
       "      <td>0</td>\n",
       "      <td>3410.389399</td>\n",
       "      <td>3869.349602</td>\n",
       "      <td>6448.271112</td>\n",
       "      <td>2</td>\n",
       "      <td>9</td>\n",
       "      <td>NaN</td>\n",
       "      <td>7.8750</td>\n",
       "    </tr>\n",
       "    <tr>\n",
       "      <th>2</th>\n",
       "      <td>2</td>\n",
       "      <td>1</td>\n",
       "      <td>NaN</td>\n",
       "      <td>NaN</td>\n",
       "      <td>NaN</td>\n",
       "      <td>NaN</td>\n",
       "      <td>5.0</td>\n",
       "      <td>NaN</td>\n",
       "      <td>3.0</td>\n",
       "      <td>5.0</td>\n",
       "      <td>...</td>\n",
       "      <td>0</td>\n",
       "      <td>0</td>\n",
       "      <td>0</td>\n",
       "      <td>7226.301740</td>\n",
       "      <td>8567.549110</td>\n",
       "      <td>12999.542264</td>\n",
       "      <td>2</td>\n",
       "      <td>12</td>\n",
       "      <td>NaN</td>\n",
       "      <td>9.1250</td>\n",
       "    </tr>\n",
       "    <tr>\n",
       "      <th>3</th>\n",
       "      <td>2</td>\n",
       "      <td>2</td>\n",
       "      <td>NaN</td>\n",
       "      <td>NaN</td>\n",
       "      <td>NaN</td>\n",
       "      <td>NaN</td>\n",
       "      <td>6.0</td>\n",
       "      <td>NaN</td>\n",
       "      <td>1.0</td>\n",
       "      <td>NaN</td>\n",
       "      <td>...</td>\n",
       "      <td>0</td>\n",
       "      <td>0</td>\n",
       "      <td>0</td>\n",
       "      <td>7226.301740</td>\n",
       "      <td>8567.549110</td>\n",
       "      <td>12999.542264</td>\n",
       "      <td>2</td>\n",
       "      <td>12</td>\n",
       "      <td>NaN</td>\n",
       "      <td>7.0000</td>\n",
       "    </tr>\n",
       "    <tr>\n",
       "      <th>4</th>\n",
       "      <td>2</td>\n",
       "      <td>3</td>\n",
       "      <td>NaN</td>\n",
       "      <td>NaN</td>\n",
       "      <td>NaN</td>\n",
       "      <td>NaN</td>\n",
       "      <td>6.0</td>\n",
       "      <td>NaN</td>\n",
       "      <td>1.0</td>\n",
       "      <td>NaN</td>\n",
       "      <td>...</td>\n",
       "      <td>0</td>\n",
       "      <td>0</td>\n",
       "      <td>0</td>\n",
       "      <td>7226.301740</td>\n",
       "      <td>8567.549110</td>\n",
       "      <td>12999.542264</td>\n",
       "      <td>2</td>\n",
       "      <td>12</td>\n",
       "      <td>NaN</td>\n",
       "      <td>6.1875</td>\n",
       "    </tr>\n",
       "  </tbody>\n",
       "</table>\n",
       "<p>5 rows × 244 columns</p>\n",
       "</div>"
      ],
      "text/plain": [
       "   caseid  pregordr  howpreg_n  howpreg_p  moscurrp  nowprgdk  pregend1  \\\n",
       "0       1         1        NaN        NaN       NaN       NaN       6.0   \n",
       "1       1         2        NaN        NaN       NaN       NaN       6.0   \n",
       "2       2         1        NaN        NaN       NaN       NaN       5.0   \n",
       "3       2         2        NaN        NaN       NaN       NaN       6.0   \n",
       "4       2         3        NaN        NaN       NaN       NaN       6.0   \n",
       "\n",
       "   pregend2  nbrnaliv  multbrth  ...  laborfor_i  religion_i  metro_i  \\\n",
       "0       NaN       1.0       NaN  ...           0           0        0   \n",
       "1       NaN       1.0       NaN  ...           0           0        0   \n",
       "2       NaN       3.0       5.0  ...           0           0        0   \n",
       "3       NaN       1.0       NaN  ...           0           0        0   \n",
       "4       NaN       1.0       NaN  ...           0           0        0   \n",
       "\n",
       "       basewgt  adj_mod_basewgt      finalwgt  secu_p  sest  cmintvw  \\\n",
       "0  3410.389399      3869.349602   6448.271112       2     9      NaN   \n",
       "1  3410.389399      3869.349602   6448.271112       2     9      NaN   \n",
       "2  7226.301740      8567.549110  12999.542264       2    12      NaN   \n",
       "3  7226.301740      8567.549110  12999.542264       2    12      NaN   \n",
       "4  7226.301740      8567.549110  12999.542264       2    12      NaN   \n",
       "\n",
       "   totalwgt_lb  \n",
       "0       8.8125  \n",
       "1       7.8750  \n",
       "2       9.1250  \n",
       "3       7.0000  \n",
       "4       6.1875  \n",
       "\n",
       "[5 rows x 244 columns]"
      ]
     },
     "execution_count": 2,
     "metadata": {},
     "output_type": "execute_result"
    }
   ],
   "source": [
    "live.head()"
   ]
  },
  {
   "cell_type": "code",
   "execution_count": 17,
   "id": "14fa17e7-284a-491b-b6eb-41f8979d7092",
   "metadata": {},
   "outputs": [
    {
     "name": "stdout",
     "output_type": "stream",
     "text": [
      "9148\t0.17\t0.00\t0.00\t0.00\n",
      "4574\t0.29\t0.02\t0.00\t0.00\n",
      "2287\t0.53\t0.02\t0.00\t0.00\n",
      "1143\t0.72\t0.07\t0.08\t0.16\n",
      "571\t0.60\t0.55\t0.03\t0.01\n",
      "285\t0.62\t0.48\t0.54\t0.64\n",
      "142\t0.90\t0.47\t0.61\t0.62\n"
     ]
    }
   ],
   "source": [
    "n = len(live)\n",
    "for _ in range(7):\n",
    "    sample = thinkstats2.SampleRows(live, n)\n",
    "    RunTests(sample)\n",
    "    n //= 2"
   ]
  },
  {
   "cell_type": "code",
   "execution_count": 19,
   "id": "13dcb0dc-9b72-43d0-83d2-54b0953daab7",
   "metadata": {},
   "outputs": [],
   "source": [
    "# n       test1   test2   test2   test4\n",
    "# 9148\t0.17\t0.00\t0.00\t0.00\n",
    "# 4574\t0.29\t0.02\t0.00\t0.00\n",
    "# 2287\t0.53\t0.02\t0.00\t0.00\n",
    "# 1143\t0.72\t0.07\t0.08\t0.16\n",
    "# 571\t0.60\t0.55\t0.03\t0.01\n",
    "# 285\t0.62\t0.48\t0.54\t0.64\n",
    "# 142\t0.90\t0.47\t0.61\t0.62"
   ]
  },
  {
   "cell_type": "code",
   "execution_count": 20,
   "id": "e3b3c697-0bf1-4a73-a812-da45aed58734",
   "metadata": {},
   "outputs": [],
   "source": [
    "# Conclusion: As expected, tests that are positive with large sample\n",
    "# sizes become negative as we take away data.  But the pattern is\n",
    "# erratic, with some positive tests even at small sample sizes."
   ]
  },
  {
   "cell_type": "markdown",
   "id": "8977de64-8ca8-4d2c-8a18-2f7d4195a4bd",
   "metadata": {},
   "source": [
    "#### Example 10-1 : Using the data from the BRFSS, compute the linear least squares fit for log(weight) versus height. How would you best present the\n",
    "#### estimated parameters for a model like this where one of the variables is log-transformed? If you were trying to guess someone’s weight, how much\n",
    "#### would it help to know their height?Like the NSFG, the BRFSS oversamples some groups and provides a sampling weight for each respondent. \n",
    "#### In the BRFSS data, the variable name for these weights is totalwt. Use resampling, with and without weights, to estimate the mean height of\n",
    "#### respondents in the BRFSS, the standard error of the mean, and a 90% confidence interval. How much does correct weighting affect the estimates?"
   ]
  },
  {
   "cell_type": "code",
   "execution_count": 9,
   "id": "9d233d8e-d66a-452a-95b6-55076ef17afe",
   "metadata": {},
   "outputs": [
    {
     "data": {
      "text/html": [
       "<div>\n",
       "<style scoped>\n",
       "    .dataframe tbody tr th:only-of-type {\n",
       "        vertical-align: middle;\n",
       "    }\n",
       "\n",
       "    .dataframe tbody tr th {\n",
       "        vertical-align: top;\n",
       "    }\n",
       "\n",
       "    .dataframe thead th {\n",
       "        text-align: right;\n",
       "    }\n",
       "</style>\n",
       "<table border=\"1\" class=\"dataframe\">\n",
       "  <thead>\n",
       "    <tr style=\"text-align: right;\">\n",
       "      <th></th>\n",
       "      <th>age</th>\n",
       "      <th>sex</th>\n",
       "      <th>wtyrago</th>\n",
       "      <th>finalwt</th>\n",
       "      <th>wtkg2</th>\n",
       "      <th>htm3</th>\n",
       "    </tr>\n",
       "  </thead>\n",
       "  <tbody>\n",
       "    <tr>\n",
       "      <th>0</th>\n",
       "      <td>82.0</td>\n",
       "      <td>2</td>\n",
       "      <td>76.363636</td>\n",
       "      <td>185.870345</td>\n",
       "      <td>70.91</td>\n",
       "      <td>157.0</td>\n",
       "    </tr>\n",
       "    <tr>\n",
       "      <th>1</th>\n",
       "      <td>65.0</td>\n",
       "      <td>2</td>\n",
       "      <td>72.727273</td>\n",
       "      <td>126.603027</td>\n",
       "      <td>72.73</td>\n",
       "      <td>163.0</td>\n",
       "    </tr>\n",
       "    <tr>\n",
       "      <th>2</th>\n",
       "      <td>48.0</td>\n",
       "      <td>2</td>\n",
       "      <td>NaN</td>\n",
       "      <td>181.063210</td>\n",
       "      <td>NaN</td>\n",
       "      <td>165.0</td>\n",
       "    </tr>\n",
       "    <tr>\n",
       "      <th>3</th>\n",
       "      <td>61.0</td>\n",
       "      <td>1</td>\n",
       "      <td>73.636364</td>\n",
       "      <td>517.926275</td>\n",
       "      <td>73.64</td>\n",
       "      <td>170.0</td>\n",
       "    </tr>\n",
       "    <tr>\n",
       "      <th>4</th>\n",
       "      <td>26.0</td>\n",
       "      <td>1</td>\n",
       "      <td>88.636364</td>\n",
       "      <td>1252.624630</td>\n",
       "      <td>88.64</td>\n",
       "      <td>185.0</td>\n",
       "    </tr>\n",
       "  </tbody>\n",
       "</table>\n",
       "</div>"
      ],
      "text/plain": [
       "    age  sex    wtyrago      finalwt  wtkg2   htm3\n",
       "0  82.0    2  76.363636   185.870345  70.91  157.0\n",
       "1  65.0    2  72.727273   126.603027  72.73  163.0\n",
       "2  48.0    2        NaN   181.063210    NaN  165.0\n",
       "3  61.0    1  73.636364   517.926275  73.64  170.0\n",
       "4  26.0    1  88.636364  1252.624630  88.64  185.0"
      ]
     },
     "execution_count": 9,
     "metadata": {},
     "output_type": "execute_result"
    }
   ],
   "source": [
    "# Utilizing user defined functions in brfss.py to read and clean the brfss dataset\n",
    "import brfss\n",
    "\n",
    "df = brfss.ReadBrfss(nrows=None)\n",
    "\n",
    "df.head()"
   ]
  },
  {
   "cell_type": "code",
   "execution_count": 10,
   "id": "0ff9d3cd-1e14-454d-b429-e592f02b32b8",
   "metadata": {},
   "outputs": [],
   "source": [
    "# drop NAs from the height and weight columns \n",
    "df = df.dropna(subset=['htm3', 'wtkg2'])"
   ]
  },
  {
   "cell_type": "code",
   "execution_count": 11,
   "id": "7f84eeb1-25dd-4cc4-a7db-f361ffa53f35",
   "metadata": {},
   "outputs": [],
   "source": [
    "# Read height and weight into separate data frames and calculate log of weights\n",
    "heights, weights = df.htm3, df.wtkg2\n",
    "log_weights = np.log10(weights)"
   ]
  },
  {
   "cell_type": "code",
   "execution_count": 13,
   "id": "12386cc2-6f89-4c76-b079-ff2cb8140c3a",
   "metadata": {},
   "outputs": [
    {
     "name": "stdout",
     "output_type": "stream",
     "text": [
      "0.9930804163917974 0.005281454169417895\n"
     ]
    }
   ],
   "source": [
    "# Estimate intercept and slope utilizing Thinkstats LeastSquares() user defined function\n",
    "# Function takes two variables xs and ys and estimates the linear relationship \n",
    "# xs here is height and ys is log_weights\n",
    "inter, slope =  thinkstats2.LeastSquares(heights, log_weights)\n",
    "print(inter, slope)"
   ]
  },
  {
   "cell_type": "code",
   "execution_count": 77,
   "id": "472849ef-71fc-43fd-ad38-e08a62723289",
   "metadata": {},
   "outputs": [],
   "source": [
    "# Utilizing thinkstats FitLine() to predict yhat from xs, calculated intercept and slope\n",
    "fit_height, fit_log_weight = thinkstats2.FitLine(heights, inter, slope)\n"
   ]
  },
  {
   "cell_type": "code",
   "execution_count": 101,
   "id": "08aa3e63-e1c5-484f-8f11-993d82851a75",
   "metadata": {},
   "outputs": [
    {
     "data": {
      "image/png": "[encoded data removed]",
      "text/plain": [
       "<Figure size 640x480 with 1 Axes>"
      ]
     },
     "metadata": {},
     "output_type": "display_data"
    }
   ],
   "source": [
    "# To present the model parameters will use the scatter plot to show difference between plot with log transformed vaariable \n",
    "# and another with non log transformed variable\n",
    "# Scatterplot of heights vs log weights\n",
    "\n",
    "# Add jittering for heights\n",
    "# heights_jitter = heights + np.random.normal(0, 2, size=395832)\n",
    "# log_weights_jitter = log_weights + np.random.normal(0, 2, size=395832)\n",
    "# Scatter Plot the with fitted line showing prediction \n",
    "# plt.plot(heights_jitter, log_weights_jitter, 'o', markersize=0.6, alpha=0.01)\n",
    "# plt.axis([140, 200, -6, 8])\n",
    "plt.plot(heights, log_weights, 'o', markersize=0.6, alpha=0.01)\n",
    "\n",
    "# plot the line of prediction\n",
    "plt.plot(fit_height, fit_log_weight, color='white', linewidth=3)\n",
    "plt.plot(fit_height, fit_log_weight, color='red', linewidth=2)\n",
    "\n",
    "# Label the axes\n",
    "plt.xlabel('Height in cms')\n",
    "plt.ylabel('Log 10 of weights (Kg)')\n",
    "plt.show()"
   ]
  },
  {
   "cell_type": "code",
   "execution_count": 106,
   "id": "b3e553db-a9d1-4e22-8a61-492a08bc0eee",
   "metadata": {},
   "outputs": [
    {
     "data": {
      "image/png": "[encoded data removed]",
      "text/plain": [
       "<Figure size 640x480 with 1 Axes>"
      ]
     },
     "metadata": {},
     "output_type": "display_data"
    }
   ],
   "source": [
    "# Make the same plot but apply the inverse transform to show weights on a linear (not log) scale.\n",
    "plt.plot(heights, weights, 'o', markersize=0.6, alpha=0.01)\n",
    "fit_height, fit_weight = thinkstats2.FitLine(heights, inter, slope)\n",
    "plt.plot(fit_height, 10**fit_weight, color='white', linewidth=3)\n",
    "plt.plot(fit_height, 10**fit_weight, color='red', linewidth=2)\n",
    "\n",
    "# Label the axes\n",
    "plt.xlabel('Height in cms')\n",
    "plt.ylabel('Weights in Kg')\n",
    "plt.show()"
   ]
  },
  {
   "cell_type": "code",
   "execution_count": 167,
   "id": "3de38ec2-269e-47e6-aa94-9ab183a10477",
   "metadata": {},
   "outputs": [],
   "source": [
    "################################ Observations ######################################\n",
    "# It is clear that there exists linear relationship between heights and log of weights\n",
    "# Given height the model will clearly help to tell the predicted log 10 of weight\n",
    "# of the person. We can then use 10**Predicted Weight to get the predicted weight in Kg.\n",
    "#\n",
    "# Relationship between heights and weight though is not perfectly linear as we can see\n",
    "# fitted line line curves.\n",
    "#\n",
    "# We can see that weight steadily increases as height of the person increases till \n",
    "# about 150 cms and later weight increases exponentially until 225 cms height\n",
    "# Given intercept, slope, and height we can easily predict coreesponding weight.\n",
    "####################################################################################"
   ]
  },
  {
   "cell_type": "code",
   "execution_count": 108,
   "id": "90073636-7b9a-4324-808b-ac3df1a9526e",
   "metadata": {},
   "outputs": [
    {
     "data": {
      "image/png": "[encoded data removed]",
      "text/plain": [
       "<Figure size 640x480 with 1 Axes>"
      ]
     },
     "metadata": {},
     "output_type": "display_data"
    }
   ],
   "source": [
    "# To further check linearity of the relationship we can calculate residuals and plot it against \n",
    "# independent variable i.e. height.\n",
    "\n",
    "# Plot percentiles of the residuals\n",
    "res = thinkstats2.Residuals(heights, log_weights, inter, slope)\n",
    "df['residual'] = res\n",
    "\n",
    "bins = np.arange(130, 210, 5)\n",
    "indices = np.digitize(df.htm3, bins)\n",
    "groups = df.groupby(indices)\n",
    "\n",
    "means = [group.htm3.mean() for i, group in groups][1:-1]\n",
    "cdfs = [thinkstats2.Cdf(group.residual) for i, group in groups][1:-1]\n",
    "\n",
    "thinkplot.PrePlot(3)\n",
    "for percent in [75, 50, 25]:\n",
    "    ys = [cdf.Percentile(percent) for cdf in cdfs]\n",
    "    label = '%dth' % percent\n",
    "    thinkplot.Plot(means, ys, label=label)\n",
    "    \n",
    "thinkplot.Config(xlabel='height (cm)', ylabel='residual weight (kg)', legend=True)"
   ]
  },
  {
   "cell_type": "code",
   "execution_count": 148,
   "id": "48c3b61b-263a-43ec-b2fb-9a15ade9ec6e",
   "metadata": {},
   "outputs": [],
   "source": [
    "############################## Observations ########################################\n",
    "# 50th percentile line is about half a time at 0 residual (which is good) while \n",
    "# at other times it is fluctuating between 0.1 and -0.05.\n",
    "# This behaviour indicates that the relationship is not linear all the time.\n",
    "\n",
    "# The lines are mostly parallel, indicating \n",
    "# that the variance of the residuals is the \n",
    "# same over the range.\n",
    "#####################################################################################"
   ]
  },
  {
   "cell_type": "code",
   "execution_count": 149,
   "id": "d013a985-a590-4605-ac98-e886f3413cd8",
   "metadata": {},
   "outputs": [
    {
     "data": {
      "text/plain": [
       "0.5317282605983519"
      ]
     },
     "execution_count": 149,
     "metadata": {},
     "output_type": "execute_result"
    }
   ],
   "source": [
    "# compute correlation\n",
    "rho = thinkstats2.Corr(heights, log_weights)\n",
    "rho"
   ]
  },
  {
   "cell_type": "code",
   "execution_count": 150,
   "id": "a9e63e66-fb51-4695-878b-aecf286d59c6",
   "metadata": {},
   "outputs": [
    {
     "data": {
      "text/plain": [
       "0.28273494311893377"
      ]
     },
     "execution_count": 150,
     "metadata": {},
     "output_type": "execute_result"
    }
   ],
   "source": [
    "# compute coefficient of determination\n",
    "r2 = thinkstats2.CoefDetermination(log_weights, res)\n",
    "r2"
   ]
  },
  {
   "cell_type": "code",
   "execution_count": 114,
   "id": "2a892eb6-be97-43b9-b3d1-b5fe4ca6f3e9",
   "metadata": {},
   "outputs": [],
   "source": [
    "# Confirm that  𝑅2=𝜌2"
   ]
  },
  {
   "cell_type": "code",
   "execution_count": 151,
   "id": "d2232829-4087-4d1f-88f0-66a636356aa6",
   "metadata": {},
   "outputs": [
    {
     "data": {
      "text/plain": [
       "True"
      ]
     },
     "execution_count": 151,
     "metadata": {},
     "output_type": "execute_result"
    }
   ],
   "source": [
    "np.isclose(rho**2, r2)"
   ]
  },
  {
   "cell_type": "code",
   "execution_count": 117,
   "id": "bfe72413-fb35-4ac7-9337-655b9712e3a5",
   "metadata": {},
   "outputs": [],
   "source": [
    "# Compute Std(ys), which is the RMSE of predictions that don't use height."
   ]
  },
  {
   "cell_type": "code",
   "execution_count": 152,
   "id": "c39d094a-281b-4f08-be62-3f2db1e0b9cb",
   "metadata": {},
   "outputs": [
    {
     "data": {
      "text/plain": [
       "0.10320725030004854"
      ]
     },
     "execution_count": 152,
     "metadata": {},
     "output_type": "execute_result"
    }
   ],
   "source": [
    "std_ys = thinkstats2.Std(log_weights)\n",
    "std_ys"
   ]
  },
  {
   "cell_type": "code",
   "execution_count": 119,
   "id": "82aa0151-6f0b-4ba0-b4ee-a372fbc11623",
   "metadata": {},
   "outputs": [],
   "source": [
    "# Compute Std(res), the RMSE of predictions that do use height."
   ]
  },
  {
   "cell_type": "code",
   "execution_count": 153,
   "id": "13df7384-8969-42ed-a07f-ab7e4a1a0883",
   "metadata": {},
   "outputs": [
    {
     "data": {
      "text/plain": [
       "0.08740777080416093"
      ]
     },
     "execution_count": 153,
     "metadata": {},
     "output_type": "execute_result"
    }
   ],
   "source": [
    "std_res = thinkstats2.Std(res)\n",
    "std_res"
   ]
  },
  {
   "cell_type": "code",
   "execution_count": 121,
   "id": "b9822301-6ac6-49b2-8025-98e11265b313",
   "metadata": {},
   "outputs": [],
   "source": [
    "# How much does height information reduce RMSE?"
   ]
  },
  {
   "cell_type": "code",
   "execution_count": 155,
   "id": "3e06a4e5-42cf-4ab8-8ae3-1106991dc272",
   "metadata": {},
   "outputs": [
    {
     "data": {
      "text/plain": [
       "0.15308497658793052"
      ]
     },
     "execution_count": 155,
     "metadata": {},
     "output_type": "execute_result"
    }
   ],
   "source": [
    "1 - std_res / std_ys"
   ]
  },
  {
   "cell_type": "code",
   "execution_count": 123,
   "id": "beeacf8f-abce-456e-ac80-2272cb3f1519",
   "metadata": {},
   "outputs": [],
   "source": [
    "# Use resampling to compute sampling distributions for inter and slope."
   ]
  },
  {
   "cell_type": "code",
   "execution_count": 157,
   "id": "69980b17-fea3-4c29-a785-ebfd594bd36a",
   "metadata": {},
   "outputs": [],
   "source": [
    "t = []\n",
    "for _ in range(100):\n",
    "    sample = thinkstats2.ResampleRows(df)\n",
    "    estimates = thinkstats2.LeastSquares(sample.htm3, np.log10(sample.wtkg2))\n",
    "    t.append(estimates)\n",
    "\n",
    "inters, slopes = zip(*t)"
   ]
  },
  {
   "cell_type": "code",
   "execution_count": 125,
   "id": "314b43c3-8985-46f3-82f8-927782ecc3e6",
   "metadata": {},
   "outputs": [],
   "source": [
    "# Plot the sampling distribution of slope."
   ]
  },
  {
   "cell_type": "code",
   "execution_count": 158,
   "id": "3a535ecd-ca88-4431-9265-c495cd3b9791",
   "metadata": {},
   "outputs": [
    {
     "data": {
      "text/plain": [
       "{'xscale': 'linear', 'yscale': 'linear'}"
      ]
     },
     "execution_count": 158,
     "metadata": {},
     "output_type": "execute_result"
    },
    {
     "data": {
      "image/png": "[encoded data removed]",
      "text/plain": [
       "<Figure size 640x480 with 1 Axes>"
      ]
     },
     "metadata": {},
     "output_type": "display_data"
    }
   ],
   "source": [
    "cdf = thinkstats2.Cdf(slopes)\n",
    "thinkplot.Cdf(cdf)"
   ]
  },
  {
   "cell_type": "code",
   "execution_count": 127,
   "id": "d5f919ad-ff30-42fc-b1b2-4d38a21a4575",
   "metadata": {},
   "outputs": [],
   "source": [
    "# Compute the p-value of the slope."
   ]
  },
  {
   "cell_type": "code",
   "execution_count": 159,
   "id": "0212eac6-aaaf-4d49-b9ae-b21305bb3eff",
   "metadata": {},
   "outputs": [
    {
     "data": {
      "text/plain": [
       "0"
      ]
     },
     "execution_count": 159,
     "metadata": {},
     "output_type": "execute_result"
    }
   ],
   "source": [
    "pvalue = cdf[0]\n",
    "pvalue"
   ]
  },
  {
   "cell_type": "code",
   "execution_count": 129,
   "id": "5d459112-8546-4c6b-9810-6e117e75a330",
   "metadata": {},
   "outputs": [],
   "source": [
    "# Compute the 90% confidence interval of slope"
   ]
  },
  {
   "cell_type": "code",
   "execution_count": 160,
   "id": "b6f93186-b046-4abe-b9e5-6fdc073e97ef",
   "metadata": {},
   "outputs": [
    {
     "data": {
      "text/plain": [
       "(0.005254773651148464, 0.0053020927729020804)"
      ]
     },
     "execution_count": 160,
     "metadata": {},
     "output_type": "execute_result"
    }
   ],
   "source": [
    "ci = cdf.Percentile(5), cdf.Percentile(95)\n",
    "ci"
   ]
  },
  {
   "cell_type": "code",
   "execution_count": 131,
   "id": "ea0c0d6f-55a6-443d-a41a-d60ecfded870",
   "metadata": {},
   "outputs": [],
   "source": [
    "# Compute the mean of the sampling distribution."
   ]
  },
  {
   "cell_type": "code",
   "execution_count": 161,
   "id": "7f722f46-fd98-4e9d-8b05-4355aa770fd8",
   "metadata": {},
   "outputs": [
    {
     "data": {
      "text/plain": [
       "0.005280396185885794"
      ]
     },
     "execution_count": 161,
     "metadata": {},
     "output_type": "execute_result"
    }
   ],
   "source": [
    "mean = thinkstats2.Mean(slopes)\n",
    "mean"
   ]
  },
  {
   "cell_type": "code",
   "execution_count": 133,
   "id": "bdc0c426-ab67-481a-9821-e7531ce0fb55",
   "metadata": {},
   "outputs": [],
   "source": [
    "# Compute the standard deviation of the sampling distribution, which is the standard error."
   ]
  },
  {
   "cell_type": "code",
   "execution_count": 162,
   "id": "0000dd38-d4b0-4cda-8cb3-86d74e981b6a",
   "metadata": {},
   "outputs": [
    {
     "data": {
      "text/plain": [
       "1.3756286671652704e-05"
      ]
     },
     "execution_count": 162,
     "metadata": {},
     "output_type": "execute_result"
    }
   ],
   "source": [
    "stderr = thinkstats2.Std(slopes)\n",
    "stderr"
   ]
  },
  {
   "cell_type": "code",
   "execution_count": 163,
   "id": "54e9be29-0e58-4fcc-8e0d-1b7d07259c10",
   "metadata": {},
   "outputs": [],
   "source": [
    "# Resample rows without weights, compute mean height, and summarize results.\n",
    "# The following function takes a list of estimates and prints the mean, standard error, and 90% confidence interval.\n",
    "from thinkstats2 import Mean, MeanVar, Var, Std, Cov\n",
    "\n",
    "def Summarize(estimates, actual=None):\n",
    "    mean = Mean(estimates)\n",
    "    stderr = Std(estimates, mu=actual)\n",
    "    cdf = thinkstats2.Cdf(estimates)\n",
    "    ci = cdf.ConfidenceInterval(90)\n",
    "    print('mean, SE, CI', mean, stderr, ci)"
   ]
  },
  {
   "cell_type": "code",
   "execution_count": 164,
   "id": "913f2ade-6577-45e9-9881-c7e26053b99b",
   "metadata": {},
   "outputs": [
    {
     "name": "stdout",
     "output_type": "stream",
     "text": [
      "mean, SE, CI 168.95665009397922 0.015500584811720805 (168.93025829139634, 168.98339952302996)\n"
     ]
    }
   ],
   "source": [
    "estimates_unweighted = [thinkstats2.ResampleRows(df).htm3.mean() for _ in range(100)]\n",
    "Summarize(estimates_unweighted)"
   ]
  },
  {
   "cell_type": "code",
   "execution_count": 141,
   "id": "d17cf710-9f3b-4495-81fd-f5beb0895e27",
   "metadata": {},
   "outputs": [],
   "source": [
    "# Resample rows with weights. Note that the weight column in this dataset is called finalwt"
   ]
  },
  {
   "cell_type": "code",
   "execution_count": 178,
   "id": "3133d942-5b19-43bd-9422-7b9b1124e849",
   "metadata": {},
   "outputs": [],
   "source": [
    "## Resampling with weights\n",
    "\n",
    "# Resampling provides a convenient way to take into account the sampling weights associated with respondents in a stratified survey design.\n",
    "# The following function resamples rows with probabilities proportional to weights.\n",
    "def ResampleRowsWeighted(df, column='finalwt'):\n",
    "    weights = df[column]\n",
    "    cdf = thinkstats2.Cdf(dict(weights))\n",
    "    indices = cdf.Sample(len(weights))\n",
    "    sample = df.loc[indices]\n",
    "    return sample"
   ]
  },
  {
   "cell_type": "code",
   "execution_count": 179,
   "id": "bc0a2d01-fcf8-4a8f-86ee-e1f966171832",
   "metadata": {},
   "outputs": [
    {
     "name": "stdout",
     "output_type": "stream",
     "text": [
      "mean, SE, CI 170.49648456921122 0.017243846478423603 (170.47059611148163, 170.5270847228117)\n"
     ]
    }
   ],
   "source": [
    "estimates_weighted = [ResampleRowsWeighted(df, 'finalwt').htm3.mean() for _ in range(100)]\n",
    "Summarize(estimates_weighted)"
   ]
  },
  {
   "cell_type": "code",
   "execution_count": null,
   "id": "92efe2be-1795-47c5-b5b1-08768642c809",
   "metadata": {},
   "outputs": [],
   "source": [
    "################################# Observations ######################################\n",
    "# The estimated mean height is almost 2 cm taller \n",
    "# if we take into account the sampling weights,\n",
    "# and this difference is much bigger than the sampling error.\n",
    "#####################################################################################"
   ]
  }
 ],
 "metadata": {
  "kernelspec": {
   "display_name": "Python 3 (ipykernel)",
   "language": "python",
   "name": "python3"
  },
  "language_info": {
   "codemirror_mode": {
    "name": "ipython",
    "version": 3
   },
   "file_extension": ".py",
   "mimetype": "text/x-python",
   "name": "python",
   "nbconvert_exporter": "python",
   "pygments_lexer": "ipython3",
   "version": "3.9.13"
  }
 },
 "nbformat": 4,
 "nbformat_minor": 5
}
