{
 "cells": [
  {
   "cell_type": "code",
   "execution_count": 182,
   "id": "2fec97e3",
   "metadata": {},
   "outputs": [],
   "source": [
    "# -------------------------------------------------------------------------------------------------------------------\n",
    "# Course name - Exploratory data analysis\n",
    "# Course code - DSC530\n",
    "# Week 3 assignment\n",
    "# Script name - Shekhar530Week3.ipynb\n",
    "# Creator - Manish Shekhar\n",
    "# Date created - Dec 12th to Dec 15th\n",
    "# -------------------------------------------------------------------------------------------------------------------"
   ]
  },
  {
   "cell_type": "markdown",
   "id": "07f027c0",
   "metadata": {},
   "source": [
    "### Page 11 1-1 & 1-2 Reading, and cleaning the NSFG respondent and pregnancy data file"
   ]
  },
  {
   "cell_type": "code",
   "execution_count": 175,
   "id": "8df9d104",
   "metadata": {},
   "outputs": [],
   "source": [
    "# [Manish] - Importing required libraries\n",
    "\n",
    "import sys\n",
    "import numpy as np\n",
    "import thinkstats2\n",
    "import matplotlib.pyplot as plt\n",
    "import math\n",
    "import statistics\n",
    "\n",
    "from collections import defaultdict\n",
    "\n",
    "\n",
    "\n",
    "# [Manish] - Reading the data file (NSFG repondent data) and cleaning it\n",
    "dct_file='/Users/mshekhar/Downloads/2002FemResp.dct'\n",
    "dat_file='/Users/mshekhar/Downloads/2002FemResp.dat.gz'\n",
    "dct = thinkstats2.ReadStataDct(dct_file)\n",
    "df_resp = dct.ReadFixedWidth(dat_file, compression='gzip', nrows=None)\n",
    "\n",
    "\n",
    "# [Manish] - Reading the data file (NSFG pregnancy data)\n",
    "dct_file='/Users/mshekhar/Downloads/2002FemPreg.dct'\n",
    "dat_file='/Users/mshekhar/Downloads/2002FemPreg.dat.gz'\n",
    "dct = thinkstats2.ReadStataDct(dct_file)\n",
    "df_preg = dct.ReadFixedWidth(dat_file, compression='gzip')\n",
    "\n",
    "\n",
    "# [Manish] - User defined function to clean the pregnancy data \n",
    "def CleanFemPreg(df):\n",
    "    \"\"\"Recodes variables from the pregnancy frame.\n",
    "    df: DataFrame\n",
    "    \"\"\"\n",
    "    # mother's age is encoded in centiyears; convert to years\n",
    "    df.agepreg /= 100.0\n",
    "\n",
    "    # birthwgt_lb contains at least one bogus value (51 lbs)\n",
    "    # replace with NaN\n",
    "    df.loc[df.birthwgt_lb > 20, 'birthwgt_lb'] = np.nan\n",
    "    \n",
    "    # replace 'not ascertained', 'refused', 'don't know' with NaN\n",
    "    na_vals = [97, 98, 99]\n",
    "    df.birthwgt_lb.replace(na_vals, np.nan, inplace=True)\n",
    "    df.birthwgt_oz.replace(na_vals, np.nan, inplace=True)\n",
    "    df.hpagelb.replace(na_vals, np.nan, inplace=True)\n",
    "\n",
    "    df.babysex.replace([7, 9], np.nan, inplace=True)\n",
    "    df.nbrnaliv.replace([9], np.nan, inplace=True)\n",
    "\n",
    "    # birthweight is stored in two columns, lbs and oz.\n",
    "    # convert to a single column in lb\n",
    "    # NOTE: creating a new column requires dictionary syntax,\n",
    "    # not attribute assignment (like df.totalwgt_lb)\n",
    "    df['totalwgt_lb'] = df.birthwgt_lb + df.birthwgt_oz / 16.0    \n",
    "\n",
    "    # due to a bug in ReadStataDct, the last variable gets clipped;\n",
    "    # so for now set it to NaN\n",
    "    df.cmintvw = np.nan\n",
    "    \n",
    "    \n",
    "\n",
    "# [Manish]- cleaning the data in pregnancy file\n",
    "CleanFemPreg(df_preg)"
   ]
  },
  {
   "cell_type": "code",
   "execution_count": 38,
   "id": "8c3105f8",
   "metadata": {},
   "outputs": [
    {
     "data": {
      "text/plain": [
       "(13593, 244)"
      ]
     },
     "execution_count": 38,
     "metadata": {},
     "output_type": "execute_result"
    }
   ],
   "source": [
    "# check number of records and columns in pregnancy data frame\n",
    "df_preg.shape\n",
    "# Total 13,593 rows and 244 columns"
   ]
  },
  {
   "cell_type": "code",
   "execution_count": 21,
   "id": "621aae18",
   "metadata": {},
   "outputs": [
    {
     "data": {
      "text/plain": [
       "Index(['caseid', 'pregordr', 'howpreg_n', 'howpreg_p', 'moscurrp', 'nowprgdk',\n",
       "       'pregend1', 'pregend2', 'nbrnaliv', 'multbrth',\n",
       "       ...\n",
       "       'laborfor_i', 'religion_i', 'metro_i', 'basewgt', 'adj_mod_basewgt',\n",
       "       'finalwgt', 'secu_p', 'sest', 'cmintvw', 'totalwgt_lb'],\n",
       "      dtype='object', length=244)"
      ]
     },
     "execution_count": 21,
     "metadata": {},
     "output_type": "execute_result"
    }
   ],
   "source": [
    "# Considering Pregnancy data file to summarize if first pregnancy is delayed.\n",
    "# check columns in the pregnancy data set \n",
    "df_preg.columns"
   ]
  },
  {
   "cell_type": "code",
   "execution_count": 101,
   "id": "e45a73f1",
   "metadata": {},
   "outputs": [
    {
     "data": {
      "text/plain": [
       "1    9148\n",
       "4    1921\n",
       "2    1862\n",
       "6     352\n",
       "5     190\n",
       "3     120\n",
       "Name: outcome, dtype: int64"
      ]
     },
     "execution_count": 101,
     "metadata": {},
     "output_type": "execute_result"
    }
   ],
   "source": [
    "# checking distinct values in outcome (pregnancy outcome)\n",
    "df_preg['outcome'].value_counts()"
   ]
  },
  {
   "cell_type": "code",
   "execution_count": 102,
   "id": "85968d76",
   "metadata": {},
   "outputs": [
    {
     "data": {
      "text/plain": [
       "array([1, 2, 4, 5, 3, 6])"
      ]
     },
     "execution_count": 102,
     "metadata": {},
     "output_type": "execute_result"
    }
   ],
   "source": [
    "# checking unique values outcome (pregnancy outcome) as value counts skips na\n",
    "df_preg['outcome'].unique()"
   ]
  },
  {
   "cell_type": "code",
   "execution_count": 181,
   "id": "bf62cf5a",
   "metadata": {},
   "outputs": [
    {
     "data": {
      "text/plain": [
       "1    9148\n",
       "4    1921\n",
       "2    1862\n",
       "6     352\n",
       "5     190\n",
       "3     120\n",
       "Name: outcome, dtype: int64"
      ]
     },
     "execution_count": 181,
     "metadata": {},
     "output_type": "execute_result"
    }
   ],
   "source": [
    "# checking stats\n",
    "df_preg['outcome'].value_counts()\n",
    "# About 3/4th of the pregnancies has live birth in the data file at hand"
   ]
  },
  {
   "cell_type": "code",
   "execution_count": 105,
   "id": "e51a1bde",
   "metadata": {},
   "outputs": [
    {
     "data": {
      "text/plain": [
       "True     9148\n",
       "False    4445\n",
       "Name: outcome, dtype: int64"
      ]
     },
     "execution_count": 105,
     "metadata": {},
     "output_type": "execute_result"
    }
   ],
   "source": [
    "# creating a data filter with live births as we are conserned with finding about first pregnancy tenure\n",
    "filter_live_preg = df_preg['outcome']==1\n",
    "filter_live_preg.value_counts()"
   ]
  },
  {
   "cell_type": "code",
   "execution_count": 106,
   "id": "55c877a0",
   "metadata": {},
   "outputs": [
    {
     "data": {
      "text/plain": [
       "1    9148\n",
       "Name: outcome, dtype: int64"
      ]
     },
     "execution_count": 106,
     "metadata": {},
     "output_type": "execute_result"
    }
   ],
   "source": [
    "# create a data frame with live births only\n",
    "df_live_preg = df_preg[filter_live_preg]\n",
    "df_live_preg['outcome'].value_counts()\n",
    "# all pregnancies with outcome != 1 (live birth) are filtered out"
   ]
  },
  {
   "cell_type": "code",
   "execution_count": 113,
   "id": "a8f5022a",
   "metadata": {},
   "outputs": [
    {
     "data": {
      "text/plain": [
       "1.0     4413\n",
       "2.0     2874\n",
       "3.0     1234\n",
       "4.0      421\n",
       "5.0      126\n",
       "6.0       50\n",
       "7.0       20\n",
       "8.0        7\n",
       "9.0        2\n",
       "10.0       1\n",
       "Name: birthord, dtype: int64"
      ]
     },
     "execution_count": 113,
     "metadata": {},
     "output_type": "execute_result"
    }
   ],
   "source": [
    "# checking distinct data in birthord (order of pregnancy for live births i.e. is it first, last etc)\n",
    "df_preg['birthord'].value_counts()\n",
    "# As we are only concerned with checking if first live births were delayed, we need to create two data frames \n",
    "# 1. first live pregnancies\n",
    "# 2. all other (second to last) live pregnancies\n",
    "# And then compare their distributions & summary stats\n"
   ]
  },
  {
   "cell_type": "code",
   "execution_count": 114,
   "id": "555c7c1e",
   "metadata": {},
   "outputs": [],
   "source": [
    "# creating the data two data frames \n",
    "# 1. first live pregnancies\n",
    "# 2. all other (second to last) live pregnancies\n",
    "filter_first_live_preg = df_live_preg['birthord']==1\n",
    "df_first_live_preg = df_live_preg[filter_first_live_preg]\n",
    "df_all_other_live_preg = df_live_preg[~filter_first_live_preg]"
   ]
  },
  {
   "cell_type": "markdown",
   "id": "fc63444b",
   "metadata": {},
   "source": [
    "## Page 25 2-1 : Based on learning in chapter summarize if first babies arrive late"
   ]
  },
  {
   "cell_type": "code",
   "execution_count": 151,
   "id": "cd235f4e",
   "metadata": {},
   "outputs": [
    {
     "data": {
      "text/plain": [
       "count    9148.000000\n",
       "mean       38.560560\n",
       "std         2.702344\n",
       "min         0.000000\n",
       "25%        39.000000\n",
       "50%        39.000000\n",
       "75%        39.000000\n",
       "max        50.000000\n",
       "Name: prglngth, dtype: float64"
      ]
     },
     "execution_count": 151,
     "metadata": {},
     "output_type": "execute_result"
    }
   ],
   "source": [
    "# check live pregnancy data frame\n",
    "df_live_preg.columns\n",
    "df_live_preg['prglngth'].describe()\n",
    "# We can see some summary stats i.e. mean, standard deviation, different percentiles etc\n",
    "# Mean or average of live pregnancies is 38.56 weeks"
   ]
  },
  {
   "cell_type": "code",
   "execution_count": 178,
   "id": "e5fc218f",
   "metadata": {},
   "outputs": [
    {
     "data": {
      "image/png": "[encoded data removed]",
      "text/plain": [
       "<Figure size 640x480 with 1 Axes>"
      ]
     },
     "metadata": {},
     "output_type": "display_data"
    }
   ],
   "source": [
    "# plot the histogram with of pregnancy length for live births\n",
    "plt.style.use('seaborn-deep')\n",
    "plt.hist(np.array(df_live_preg['prglngth']), width = 2, edgecolor = \"black\", bins=20)\n",
    "\n",
    "# Label the axes\n",
    "plt.xlabel('Length of pregnancy in weeks')\n",
    "plt.ylabel('Number of live pregnancies')\n",
    "\n",
    "m = statistics.mean(df_live_preg['prglngth'])\n",
    "plt.axvline(m, color='k', linestyle='dashed')\n",
    "\n",
    "# Show the figure\n",
    "plt.show()\n",
    "\n",
    "# Any pregnancy above 45 weeks seems like outlier\n",
    "# Any pregnancy below 23 weeks seems like outlier\n",
    "# Data is long tailed to left which shows premature births between 30 to 38 weeks"
   ]
  },
  {
   "cell_type": "code",
   "execution_count": 149,
   "id": "e54a3b6c",
   "metadata": {},
   "outputs": [
    {
     "data": {
      "text/plain": [
       "count    4413.000000\n",
       "mean       38.600952\n",
       "std         2.791901\n",
       "min         0.000000\n",
       "25%        39.000000\n",
       "50%        39.000000\n",
       "75%        40.000000\n",
       "max        48.000000\n",
       "Name: prglngth, dtype: float64"
      ]
     },
     "execution_count": 149,
     "metadata": {},
     "output_type": "execute_result"
    }
   ],
   "source": [
    "# check first live pregnancy data frame\n",
    "df_first_live_preg.columns\n",
    "df_first_live_preg['prglngth'].describe()\n",
    "# We can see some summary stats i.e. mean, standard deviation, different percentiles etc\n",
    "# Mean or average of first live pregnancies is 38.6 weeks"
   ]
  },
  {
   "cell_type": "code",
   "execution_count": 150,
   "id": "1184c970",
   "metadata": {},
   "outputs": [
    {
     "data": {
      "text/plain": [
       "count    4735.000000\n",
       "mean       38.522914\n",
       "std         2.615852\n",
       "min         4.000000\n",
       "25%        39.000000\n",
       "50%        39.000000\n",
       "75%        39.000000\n",
       "max        50.000000\n",
       "Name: prglngth, dtype: float64"
      ]
     },
     "execution_count": 150,
     "metadata": {},
     "output_type": "execute_result"
    }
   ],
   "source": [
    "# check all other first live pregnancy data frame\n",
    "df_all_other_live_preg.columns\n",
    "df_all_other_live_preg['prglngth'].describe()\n",
    "# We can see some summary stats i.e. mean, standard deviation, different percentiles etc\n",
    "# Mean or average of first live pregnancies is 38.52 weeks"
   ]
  },
  {
   "cell_type": "code",
   "execution_count": 142,
   "id": "ef06f69b",
   "metadata": {},
   "outputs": [
    {
     "data": {
      "image/png": "[encoded data removed]",
      "text/plain": [
       "<Figure size 640x480 with 1 Axes>"
      ]
     },
     "metadata": {},
     "output_type": "display_data"
    }
   ],
   "source": [
    "# plot the side by side histograms of two groups - first, live birth vs all other live birth\n",
    "plt.style.use('seaborn-deep')\n",
    "x = np.array(df_first_live_preg['prglngth'])\n",
    "y = np.array(df_all_other_live_preg['prglngth'])\n",
    "\n",
    "plt.hist([x, y], bins=20, edgecolor = \"black\", label=['first', 'other'])\n",
    "\n",
    "plt.xlabel('Length of pregnancy in weeks')\n",
    "plt.ylabel('Number of live pregnancies')\n",
    "\n",
    "\n",
    "# Show the figure\n",
    "plt.show()\n",
    "\n",
    "\n",
    "# OBSERVATION \n",
    "# -------------------\n",
    "# As Allen Downey has suggested in the book, because we have fever observations of first live birth \n",
    "# than other live births this comparison wouldn't be correct. We need to check other reliable ways to compare \n",
    "# these groups. "
   ]
  },
  {
   "cell_type": "code",
   "execution_count": 158,
   "id": "40900cb1",
   "metadata": {},
   "outputs": [
    {
     "data": {
      "text/plain": [
       "0.028879044654449883"
      ]
     },
     "execution_count": 158,
     "metadata": {},
     "output_type": "execute_result"
    }
   ],
   "source": [
    "# Allen suggests that better way to compare the two groups or samples of data at hand \n",
    "# will be to look at (difference in their means by variability in the groups) which is also called Cohen's D\n",
    "\n",
    "# User defined function to calculate Cohen's D as Allen provided in the book\n",
    "def CohenEffectSize(group1, group2):\n",
    "    diff = group1.mean() - group2.mean()\n",
    "\n",
    "    var1 = group1.var()\n",
    "    var2 = group2.var()\n",
    "    n1, n2 = len(group1), len(group2)\n",
    "\n",
    "    pooled_var = (n1 * var1 + n2 * var2) / (n1 + n2)\n",
    "    d = diff / math.sqrt(pooled_var)\n",
    "    return d\n",
    "\n",
    "\n",
    "CohenEffectSize(df_first_live_preg['prglngth'], df_all_other_live_preg['prglngth'])\n",
    "\n"
   ]
  },
  {
   "cell_type": "code",
   "execution_count": 159,
   "id": "d5b1b2b3",
   "metadata": {},
   "outputs": [],
   "source": [
    "# OBSERVATION\n",
    "# ------------------\n",
    "# Cohen's D is too small and thus there is no significant difference that can be reported.\n",
    "# Difference in mean is also small which is 0.078 weeks which is about 13 hours. \n",
    "# With difference so small statistically it is difficult to say that obviously first live births are delayed.\n",
    "# I would collect more data or try resampling and also other ways of more accurate comparisons \n",
    "# i.e. cdfs (cummulative distribution function)"
   ]
  },
  {
   "cell_type": "markdown",
   "id": "dd47db75",
   "metadata": {},
   "source": [
    "## Page 25 2-4 : Investigate using totalwgt_lb of first babies are lighter or heavier"
   ]
  },
  {
   "cell_type": "code",
   "execution_count": 161,
   "id": "691b6ce0",
   "metadata": {},
   "outputs": [
    {
     "data": {
      "text/plain": [
       "count    4363.000000\n",
       "mean        7.201094\n",
       "std         1.420573\n",
       "min         0.125000\n",
       "25%         6.437500\n",
       "50%         7.312500\n",
       "75%         8.000000\n",
       "max        15.437500\n",
       "Name: totalwgt_lb, dtype: float64"
      ]
     },
     "execution_count": 161,
     "metadata": {},
     "output_type": "execute_result"
    }
   ],
   "source": [
    "# Check summary stats of totalwgt_lb in first live pregnancy data frame\n",
    "df_first_live_preg['totalwgt_lb'].describe()\n",
    "# We can see some summary stats i.e. mean, standard deviation, different percentiles etc\n",
    "# Mean or average of baby's total weight in case of first live pregnancies is 7.20 pounds"
   ]
  },
  {
   "cell_type": "code",
   "execution_count": 164,
   "id": "57a0b314",
   "metadata": {},
   "outputs": [
    {
     "data": {
      "text/plain": [
       "count    4675.000000\n",
       "mean        7.325856\n",
       "std         1.394195\n",
       "min         0.562500\n",
       "25%         6.500000\n",
       "50%         7.375000\n",
       "75%         8.187500\n",
       "max        14.000000\n",
       "Name: totalwgt_lb, dtype: float64"
      ]
     },
     "execution_count": 164,
     "metadata": {},
     "output_type": "execute_result"
    }
   ],
   "source": [
    "# Check summary stats of totalwgt_lb in all other live pregnancy data frame\n",
    "df_all_other_live_preg['totalwgt_lb'].describe()\n",
    "# We can see some summary stats i.e. mean, standard deviation, different percentiles etc\n",
    "# Mean or average of baby's total weight in case of all other live pregnancies is 7.32 pounds"
   ]
  },
  {
   "cell_type": "code",
   "execution_count": 179,
   "id": "aa84e45b",
   "metadata": {},
   "outputs": [
    {
     "data": {
      "image/png": "[encoded data removed]",
      "text/plain": [
       "<Figure size 640x480 with 1 Axes>"
      ]
     },
     "metadata": {},
     "output_type": "display_data"
    }
   ],
   "source": [
    "# plot the side by side histograms of two groups - baby's total weight in first live birth vs in all other live birth\n",
    "plt.style.use('seaborn-deep')\n",
    "x = np.array(df_first_live_preg['totalwgt_lb'])\n",
    "y = np.array(df_all_other_live_preg['totalwgt_lb'])\n",
    "\n",
    "plt.hist([x, y], bins=20, label=['first', 'other'], alpha = 0.75)\n",
    "\n",
    "plt.xlabel('Total baby weight in pounds')\n",
    "plt.ylabel('Number of live pregnancies')\n",
    "\n",
    "\n",
    "# Trying to plot means on the histogram, does not seems to be working :(\n",
    "m1 = statistics.mean(df_first_live_preg['totalwgt_lb'])\n",
    "m2 = statistics.mean(df_all_other_live_preg['totalwgt_lb'])\n",
    "plt.axvline(m1, color='k', linestyle='dashed')\n",
    "plt.axvline(m2, color='y', linestyle='dashed')\n",
    "\n",
    "\n",
    "# Show the figure\n",
    "plt.show()\n",
    "\n",
    "\n",
    "# OBSERVATION \n",
    "# -------------------\n",
    "# As Allen Downey has suggested in the book, because we have fever observations of first live birth \n",
    "# than all other live births this comparison wouldn't be correct. We need to check other reliable ways to compare \n",
    "# these groups. \n",
    "# Mean of baby's total weight in first live birth is 0.12 pounds or 1.92 ounces lesser than those who are \n",
    "# not first borns. This is not significant enough."
   ]
  },
  {
   "cell_type": "code",
   "execution_count": 168,
   "id": "ebf9ffa5",
   "metadata": {},
   "outputs": [
    {
     "data": {
      "text/plain": [
       "-0.088672927072602"
      ]
     },
     "execution_count": 168,
     "metadata": {},
     "output_type": "execute_result"
    }
   ],
   "source": [
    "# Allen suggests that better way to compare the two groups or samples of data at hand \n",
    "# will be to look at (difference in their means by variability in the groups) which is also called Cohen's D\n",
    "\n",
    "# User defined function to calculate Cohen's D as Allen provided in the book\n",
    "def CohenEffectSize(group1, group2):\n",
    "    diff = group1.mean() - group2.mean()\n",
    "\n",
    "    var1 = group1.var()\n",
    "    var2 = group2.var()\n",
    "    n1, n2 = len(group1), len(group2)\n",
    "\n",
    "    pooled_var = (n1 * var1 + n2 * var2) / (n1 + n2)\n",
    "    d = diff / math.sqrt(pooled_var)\n",
    "    return d\n",
    "\n",
    "\n",
    "CohenEffectSize(df_first_live_preg['totalwgt_lb'], df_all_other_live_preg['totalwgt_lb'])\n"
   ]
  },
  {
   "cell_type": "code",
   "execution_count": null,
   "id": "f3222d01",
   "metadata": {},
   "outputs": [],
   "source": [
    "# OBSERVATION\n",
    "# ------------------\n",
    "# Cohen's D of 0.088 standard deviation is too small and thus there is no significant difference that can be reported.\n",
    "# Difference in means is also small which is 0.12 pounds or 1.92 ounces. \n",
    "# With difference so small statistically it is difficult to say that obviously baby's total weight in \n",
    "# first live births will always be lesser than those who are not first borns.\n",
    "# I would collect more data or try resampling and also other ways of more accurate comparisons \n",
    "# i.e. cdfs (cummulative distribution function)"
   ]
  }
 ],
 "metadata": {
  "kernelspec": {
   "display_name": "Python 3 (ipykernel)",
   "language": "python",
   "name": "python3"
  },
  "language_info": {
   "codemirror_mode": {
    "name": "ipython",
    "version": 3
   },
   "file_extension": ".py",
   "mimetype": "text/x-python",
   "name": "python",
   "nbconvert_exporter": "python",
   "pygments_lexer": "ipython3",
   "version": "3.9.13"
  }
 },
 "nbformat": 4,
 "nbformat_minor": 5
}
