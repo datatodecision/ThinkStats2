{
 "cells": [
  {
   "cell_type": "markdown",
   "id": "62ed7e9c",
   "metadata": {},
   "source": [
    "# 1. print your name"
   ]
  },
  {
   "cell_type": "code",
   "execution_count": 1,
   "id": "75a9ceae",
   "metadata": {},
   "outputs": [
    {
     "name": "stdout",
     "output_type": "stream",
     "text": [
      "Hello World! My name is Manish\n"
     ]
    }
   ],
   "source": [
    "print(\"Hello World! My name is Manish\")"
   ]
  },
  {
   "cell_type": "markdown",
   "id": "4c8dad69",
   "metadata": {},
   "source": [
    "# 2. Add two numbers together"
   ]
  },
  {
   "cell_type": "code",
   "execution_count": 4,
   "id": "a7be4c57",
   "metadata": {},
   "outputs": [
    {
     "name": "stdout",
     "output_type": "stream",
     "text": [
      "4\n"
     ]
    }
   ],
   "source": [
    "print(2+2)"
   ]
  },
  {
   "cell_type": "markdown",
   "id": "6b9cb4b0",
   "metadata": {},
   "source": [
    "# 3. Substract a number from another number"
   ]
  },
  {
   "cell_type": "code",
   "execution_count": 5,
   "id": "16b45724",
   "metadata": {},
   "outputs": [
    {
     "name": "stdout",
     "output_type": "stream",
     "text": [
      "0\n"
     ]
    }
   ],
   "source": [
    "print(2-2)"
   ]
  },
  {
   "cell_type": "markdown",
   "id": "21847023",
   "metadata": {},
   "source": [
    "# 4. Multiply two numbers"
   ]
  },
  {
   "cell_type": "code",
   "execution_count": 6,
   "id": "6b8e1893",
   "metadata": {},
   "outputs": [
    {
     "name": "stdout",
     "output_type": "stream",
     "text": [
      "4\n"
     ]
    }
   ],
   "source": [
    "print(2*2)"
   ]
  },
  {
   "cell_type": "markdown",
   "id": "07e71d83",
   "metadata": {},
   "source": [
    "# 5. Divide between two numbers"
   ]
  },
  {
   "cell_type": "code",
   "execution_count": 7,
   "id": "40abcec4",
   "metadata": {},
   "outputs": [
    {
     "name": "stdout",
     "output_type": "stream",
     "text": [
      "1.0\n"
     ]
    }
   ],
   "source": [
    "print(2/2)"
   ]
  },
  {
   "cell_type": "markdown",
   "id": "a03de47b",
   "metadata": {},
   "source": [
    "# 6. Concat two strings together"
   ]
  },
  {
   "cell_type": "code",
   "execution_count": 10,
   "id": "2fd18da3",
   "metadata": {},
   "outputs": [
    {
     "name": "stdout",
     "output_type": "stream",
     "text": [
      "Manish Shekhar\n"
     ]
    }
   ],
   "source": [
    "print(\"Manish\"+\" \"+\"Shekhar\")"
   ]
  },
  {
   "cell_type": "code",
   "execution_count": 11,
   "id": "8ebc57d0",
   "metadata": {},
   "outputs": [
    {
     "data": {
      "text/plain": [
       "'Manish Shekhar'"
      ]
     },
     "execution_count": 11,
     "metadata": {},
     "output_type": "execute_result"
    }
   ],
   "source": [
    "\"Manish\"+\" Shekhar\""
   ]
  },
  {
   "cell_type": "markdown",
   "id": "1650215e",
   "metadata": {},
   "source": [
    "# 7. Create a list of 4 items"
   ]
  },
  {
   "cell_type": "code",
   "execution_count": 14,
   "id": "8197956d",
   "metadata": {},
   "outputs": [
    {
     "name": "stdout",
     "output_type": "stream",
     "text": [
      "['Manish', 'Shekhar', 0, 0, 7]\n"
     ]
    }
   ],
   "source": [
    "listofitems = [\"Manish\",\"Shekhar\",0,0,7]\n",
    "print(listofitems)"
   ]
  },
  {
   "cell_type": "markdown",
   "id": "2aa5bf30",
   "metadata": {},
   "source": [
    "# 8. Append an item to the list"
   ]
  },
  {
   "cell_type": "code",
   "execution_count": 16,
   "id": "40c38443",
   "metadata": {},
   "outputs": [
    {
     "name": "stdout",
     "output_type": "stream",
     "text": [
      "['Manish', 'Shekhar', 0, 0, 7, 'Data Science', 530]\n"
     ]
    }
   ],
   "source": [
    "listofitems.append(\"Data Science\")\n",
    "listofitems.append(530)\n",
    "print(listofitems)"
   ]
  },
  {
   "cell_type": "markdown",
   "id": "c3d10d75",
   "metadata": {},
   "source": [
    "# 9. creating tuple with two strings and/or numbers"
   ]
  },
  {
   "cell_type": "code",
   "execution_count": 18,
   "id": "7af7bf19",
   "metadata": {},
   "outputs": [
    {
     "name": "stdout",
     "output_type": "stream",
     "text": [
      "('Manish', 'Shekhar')\n"
     ]
    }
   ],
   "source": [
    "mytuple=(\"Manish\", \"Shekhar\")\n",
    "print(mytuple)"
   ]
  },
  {
   "cell_type": "code",
   "execution_count": null,
   "id": "8dd402f8",
   "metadata": {},
   "outputs": [],
   "source": [
    "# Tuple with list and other tuples (nested)"
   ]
  },
  {
   "cell_type": "code",
   "execution_count": 19,
   "id": "aebb9e9a",
   "metadata": {},
   "outputs": [
    {
     "name": "stdout",
     "output_type": "stream",
     "text": [
      "('Manish', 530, (1, 2, 3), ['this', 'is', 'list'])\n"
     ]
    }
   ],
   "source": [
    "mytuple=(\"Manish\",530,(1,2,3),[\"this\",\"is\",\"list\"])\n",
    "print(mytuple)"
   ]
  },
  {
   "cell_type": "code",
   "execution_count": null,
   "id": "19d0157e",
   "metadata": {},
   "outputs": [],
   "source": []
  }
 ],
 "metadata": {
  "kernelspec": {
   "display_name": "Python 3 (ipykernel)",
   "language": "python",
   "name": "python3"
  },
  "language_info": {
   "codemirror_mode": {
    "name": "ipython",
    "version": 3
   },
   "file_extension": ".py",
   "mimetype": "text/x-python",
   "name": "python",
   "nbconvert_exporter": "python",
   "pygments_lexer": "ipython3",
   "version": "3.9.13"
  }
 },
 "nbformat": 4,
 "nbformat_minor": 5
}
